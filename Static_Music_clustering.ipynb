{
 "cells": [
  {
   "cell_type": "markdown",
   "metadata": {
    "id": "Qrj3-uQ0lDh5"
   },
   "source": [
    "# Static -  Music Dataset"
   ]
  },
  {
   "cell_type": "markdown",
   "metadata": {
    "id": "qChdIjgretH1"
   },
   "source": [
    "# Data Preprocessing"
   ]
  },
  {
   "cell_type": "markdown",
   "metadata": {},
   "source": [
    "### Since the data set files are too large we could not download them through Gdown. If you already have the data set, define the path to the folder under the folder_path variable"
   ]
  },
  {
   "cell_type": "code",
   "execution_count": null,
   "metadata": {},
   "outputs": [],
   "source": [
    "folder_path = 'fma_metadata'"
   ]
  },
  {
   "cell_type": "code",
   "execution_count": 85,
   "metadata": {
    "id": "Wsu8r7EjsgTF"
   },
   "outputs": [],
   "source": [
    "from sklearn.preprocessing import StandardScaler\n",
    "from sklearn.metrics import silhouette_score\n",
    "import os\n",
    "import dotenv\n",
    "import pydot\n",
    "import requests\n",
    "import numpy as np\n",
    "import pandas as pd\n",
    "import ctypes\n",
    "import shutil\n",
    "import multiprocessing\n",
    "import multiprocessing.sharedctypes as sharedctypes\n",
    "import os.path\n",
    "import ast\n",
    "import sklearn as skl\n",
    "import sklearn.utils, sklearn.preprocessing, sklearn.decomposition, sklearn.svm\n",
    "from sklearn.ensemble import IsolationForest"
   ]
  },
  {
   "cell_type": "code",
   "execution_count": 2,
   "metadata": {
    "id": "iQW5e2J7kEad"
   },
   "outputs": [],
   "source": [
    "# Number of samples per 30s audio clip.\n",
    "# TODO: fix dataset to be constant.\n",
    "NB_AUDIO_SAMPLES = 1321967\n",
    "SAMPLING_RATE = 44100\n",
    "\n",
    "# Load the environment from the .env file.\n",
    "dotenv.load_dotenv(dotenv.find_dotenv())\n",
    "\n",
    "\n",
    "class FreeMusicArchive:\n",
    "\n",
    "    BASE_URL = 'https://freemusicarchive.org/api/get/'\n",
    "\n",
    "    def __init__(self, api_key):\n",
    "        self.api_key = api_key\n",
    "\n",
    "    def get_recent_tracks(self):\n",
    "        URL = 'https://freemusicarchive.org/recent.json'\n",
    "        r = requests.get(URL)\n",
    "        r.raise_for_status()\n",
    "        tracks = []\n",
    "        artists = []\n",
    "        date_created = []\n",
    "        for track in r.json()['aTracks']:\n",
    "            tracks.append(track['track_id'])\n",
    "            artists.append(track['artist_name'])\n",
    "            date_created.append(track['track_date_created'])\n",
    "        return tracks, artists, date_created\n",
    "\n",
    "    def _get_data(self, dataset, fma_id, fields=None):\n",
    "        url = self.BASE_URL + dataset + 's.json?'\n",
    "        url += dataset + '_id=' + str(fma_id) + '&api_key=' + self.api_key\n",
    "        # print(url)\n",
    "        r = requests.get(url)\n",
    "        r.raise_for_status()\n",
    "        if r.json()['errors']:\n",
    "            raise Exception(r.json()['errors'])\n",
    "        data = r.json()['dataset'][0]\n",
    "        r_id = data[dataset + '_id']\n",
    "        if r_id != str(fma_id):\n",
    "            raise Exception('The received id {} does not correspond to'\n",
    "                            'the requested one {}'.format(r_id, fma_id))\n",
    "        if fields is None:\n",
    "            return data\n",
    "        if type(fields) is list:\n",
    "            ret = {}\n",
    "            for field in fields:\n",
    "                ret[field] = data[field]\n",
    "            return ret\n",
    "        else:\n",
    "            return data[fields]\n",
    "\n",
    "    def get_track(self, track_id, fields=None):\n",
    "        return self._get_data('track', track_id, fields)\n",
    "\n",
    "    def get_album(self, album_id, fields=None):\n",
    "        return self._get_data('album', album_id, fields)\n",
    "\n",
    "    def get_artist(self, artist_id, fields=None):\n",
    "        return self._get_data('artist', artist_id, fields)\n",
    "\n",
    "    def get_all(self, dataset, id_range):\n",
    "        index = dataset + '_id'\n",
    "\n",
    "        id_ = 2 if dataset == 'track' else 1\n",
    "        row = self._get_data(dataset, id_)\n",
    "        df = pd.DataFrame(columns=row.keys())\n",
    "        df.set_index(index, inplace=True)\n",
    "\n",
    "        not_found_ids = []\n",
    "\n",
    "        for id_ in id_range:\n",
    "            try:\n",
    "                row = self._get_data(dataset, id_)\n",
    "            except:\n",
    "                not_found_ids.append(id_)\n",
    "                continue\n",
    "            row.pop(index)\n",
    "            df = df.append(pd.Series(row, name=id_))\n",
    "\n",
    "        return df, not_found_ids\n",
    "\n",
    "    def download_track(self, track_file, path):\n",
    "        url = 'https://files.freemusicarchive.org/' + track_file\n",
    "        r = requests.get(url, stream=True)\n",
    "        r.raise_for_status()\n",
    "        with open(path, 'wb') as f:\n",
    "            shutil.copyfileobj(r.raw, f)\n",
    "\n",
    "    def get_track_genres(self, track_id):\n",
    "        genres = self.get_track(track_id, 'track_genres')\n",
    "        genre_ids = []\n",
    "        genre_titles = []\n",
    "        for genre in genres:\n",
    "            genre_ids.append(genre['genre_id'])\n",
    "            genre_titles.append(genre['genre_title'])\n",
    "        return genre_ids, genre_titles\n",
    "\n",
    "    def get_all_genres(self):\n",
    "        df = pd.DataFrame(columns=['genre_parent_id', 'genre_title',\n",
    "                                   'genre_handle', 'genre_color'])\n",
    "        df.index.rename('genre_id', inplace=True)\n",
    "\n",
    "        page = 1\n",
    "        while True:\n",
    "            url = self.BASE_URL + 'genres.json?limit=50'\n",
    "            url += '&page={}&api_key={}'.format(page, self.api_key)\n",
    "            r = requests.get(url)\n",
    "            for genre in r.json()['dataset']:\n",
    "                genre_id = int(genre.pop(df.index.name))\n",
    "                df.loc[genre_id] = genre\n",
    "            assert (r.json()['page'] == str(page))\n",
    "            page += 1\n",
    "            if page > r.json()['total_pages']:\n",
    "                break\n",
    "\n",
    "        return df\n",
    "\n",
    "\n",
    "class Genres:\n",
    "\n",
    "    def __init__(self, genres_df):\n",
    "        self.df = genres_df\n",
    "\n",
    "    def create_tree(self, roots, depth=None):\n",
    "\n",
    "        if type(roots) is not list:\n",
    "            roots = [roots]\n",
    "        graph = pydot.Dot(graph_type='digraph', strict=True)\n",
    "\n",
    "        def create_node(genre_id):\n",
    "            title = self.df.at[genre_id, 'title']\n",
    "            ntracks = self.df.at[genre_id, '#tracks']\n",
    "            # name = self.df.at[genre_id, 'title'] + '\\n' + str(genre_id)\n",
    "            name = '\"{}\\n{} / {}\"'.format(title, genre_id, ntracks)\n",
    "            return pydot.Node(name)\n",
    "\n",
    "        def create_tree(root_id, node_p, depth):\n",
    "            if depth == 0:\n",
    "                return\n",
    "            children = self.df[self.df['parent'] == root_id]\n",
    "            for child in children.iterrows():\n",
    "                genre_id = child[0]\n",
    "                node_c = create_node(genre_id)\n",
    "                graph.add_edge(pydot.Edge(node_p, node_c))\n",
    "                create_tree(genre_id, node_c,\n",
    "                            depth-1 if depth is not None else None)\n",
    "\n",
    "        for root in roots:\n",
    "            node_p = create_node(root)\n",
    "            graph.add_node(node_p)\n",
    "            create_tree(root, node_p, depth)\n",
    "\n",
    "        return graph\n",
    "\n",
    "    def find_roots(self):\n",
    "        roots = []\n",
    "        for gid, row in self.df.iterrows():\n",
    "            parent = row['parent']\n",
    "            title = row['title']\n",
    "            if parent == 0:\n",
    "                roots.append(gid)\n",
    "            elif parent not in self.df.index:\n",
    "                msg = '{} ({}) has parent {} which is missing'.format(\n",
    "                        gid, title, parent)\n",
    "                raise RuntimeError(msg)\n",
    "        return roots\n",
    "\n",
    "\n",
    "def load(filepath):\n",
    "\n",
    "    filename = os.path.basename(filepath)\n",
    "\n",
    "    if 'features' in filename:\n",
    "        return pd.read_csv(filepath, index_col=0, header=[0, 1, 2])\n",
    "\n",
    "    if 'echonest' in filename:\n",
    "        return pd.read_csv(filepath, index_col=0, header=[0, 1, 2])\n",
    "\n",
    "    if 'genres' in filename:\n",
    "        return pd.read_csv(filepath, index_col=0)\n",
    "\n",
    "    if 'tracks' in filename:\n",
    "        tracks = pd.read_csv(filepath, index_col=0, header=[0, 1])\n",
    "\n",
    "        COLUMNS = [('track', 'tags'), ('album', 'tags'), ('artist', 'tags'),\n",
    "                   ('track', 'genres'), ('track', 'genres_all')]\n",
    "        for column in COLUMNS:\n",
    "            tracks[column] = tracks[column].map(ast.literal_eval)\n",
    "\n",
    "        COLUMNS = [('track', 'date_created'), ('track', 'date_recorded'),\n",
    "                   ('album', 'date_created'), ('album', 'date_released'),\n",
    "                   ('artist', 'date_created'), ('artist', 'active_year_begin'),\n",
    "                   ('artist', 'active_year_end')]\n",
    "        for column in COLUMNS:\n",
    "            tracks[column] = pd.to_datetime(tracks[column])\n",
    "\n",
    "        SUBSETS = ('small', 'medium', 'large')\n",
    "        try:\n",
    "            tracks['set', 'subset'] = tracks['set', 'subset'].astype(\n",
    "                    'category', categories=SUBSETS, ordered=True)\n",
    "        except (ValueError, TypeError):\n",
    "            # the categories and ordered arguments were removed in pandas 0.25\n",
    "            tracks['set', 'subset'] = tracks['set', 'subset'].astype(\n",
    "                     pd.CategoricalDtype(categories=SUBSETS, ordered=True))\n",
    "\n",
    "        COLUMNS = [('track', 'genre_top'), ('track', 'license'),\n",
    "                   ('album', 'type'), ('album', 'information'),\n",
    "                   ('artist', 'bio')]\n",
    "        for column in COLUMNS:\n",
    "            tracks[column] = tracks[column].astype('category')\n",
    "\n",
    "        return tracks\n",
    "\n",
    "\n",
    "def get_audio_path(audio_dir, track_id):\n",
    "    \"\"\"\n",
    "    Return the path to the mp3 given the directory where the audio is stored\n",
    "    and the track ID.\n",
    "    Examples\n",
    "    --------\n",
    "    >>> import utils\n",
    "    >>> AUDIO_DIR = os.environ.get('AUDIO_DIR')\n",
    "    >>> utils.get_audio_path(AUDIO_DIR, 2)\n",
    "    '../data/fma_small/000/000002.mp3'\n",
    "    \"\"\"\n",
    "    tid_str = '{:06d}'.format(track_id)\n",
    "    return os.path.join(audio_dir, tid_str[:3], tid_str + '.mp3')\n",
    "\n",
    "\n",
    "class Loader:\n",
    "    def load(self, filepath):\n",
    "        raise NotImplementedError()\n",
    "\n",
    "\n",
    "class RawAudioLoader(Loader):\n",
    "    def __init__(self, sampling_rate=SAMPLING_RATE):\n",
    "        self.sampling_rate = sampling_rate\n",
    "        self.shape = (NB_AUDIO_SAMPLES * sampling_rate // SAMPLING_RATE, )\n",
    "\n",
    "    def load(self, filepath):\n",
    "        return self._load(filepath)[:self.shape[0]]\n",
    "\n",
    "\n",
    "class LibrosaLoader(RawAudioLoader):\n",
    "    def _load(self, filepath):\n",
    "        import librosa\n",
    "        sr = self.sampling_rate if self.sampling_rate != SAMPLING_RATE else None\n",
    "        # kaiser_fast is 3x faster than kaiser_best\n",
    "        # x, sr = librosa.load(filepath, sr=sr, res_type='kaiser_fast')\n",
    "        x, sr = librosa.load(filepath, sr=sr)\n",
    "        return x\n",
    "\n",
    "\n",
    "class AudioreadLoader(RawAudioLoader):\n",
    "    def _load(self, filepath):\n",
    "        import audioread\n",
    "        a = audioread.audio_open(filepath)\n",
    "        a.read_data()\n",
    "\n",
    "\n",
    "class PydubLoader(RawAudioLoader):\n",
    "    def _load(self, filepath):\n",
    "        from pydub import AudioSegment\n",
    "        song = AudioSegment.from_file(filepath)\n",
    "        song = song.set_channels(1)\n",
    "        x = song.get_array_of_samples()\n",
    "        # print(filepath) if song.channels != 2 else None\n",
    "        return np.array(x)\n",
    "\n",
    "\n",
    "class FfmpegLoader(RawAudioLoader):\n",
    "    def _load(self, filepath):\n",
    "        \"\"\"Fastest and less CPU intensive loading method.\"\"\"\n",
    "        import subprocess as sp\n",
    "        command = ['ffmpeg',\n",
    "                   '-i', filepath,\n",
    "                   '-f', 's16le',\n",
    "                   '-acodec', 'pcm_s16le',\n",
    "                   '-ac', '1']  # channels: 2 for stereo, 1 for mono\n",
    "        if self.sampling_rate != SAMPLING_RATE:\n",
    "            command.extend(['-ar', str(self.sampling_rate)])\n",
    "        command.append('-')\n",
    "        # 30s at 44.1 kHz ~= 1.3e6\n",
    "        proc = sp.run(command, stdout=sp.PIPE, bufsize=10**7, stderr=sp.DEVNULL, check=True)\n",
    "\n",
    "        return np.fromstring(proc.stdout, dtype=\"int16\")\n",
    "\n",
    "\n",
    "def build_sample_loader(audio_dir, Y, loader):\n",
    "\n",
    "    class SampleLoader:\n",
    "\n",
    "        def __init__(self, tids, batch_size=4):\n",
    "            self.lock1 = multiprocessing.Lock()\n",
    "            self.lock2 = multiprocessing.Lock()\n",
    "            self.batch_foremost = sharedctypes.RawValue(ctypes.c_int, 0)\n",
    "            self.batch_rearmost = sharedctypes.RawValue(ctypes.c_int, -1)\n",
    "            self.condition = multiprocessing.Condition(lock=self.lock2)\n",
    "\n",
    "            data = sharedctypes.RawArray(ctypes.c_int, tids.data)\n",
    "            self.tids = np.ctypeslib.as_array(data)\n",
    "\n",
    "            self.batch_size = batch_size\n",
    "            self.loader = loader\n",
    "            self.X = np.empty((self.batch_size, *loader.shape))\n",
    "            self.Y = np.empty((self.batch_size, Y.shape[1]), dtype=np.int)\n",
    "\n",
    "        def __iter__(self):\n",
    "            return self\n",
    "\n",
    "        def __next__(self):\n",
    "\n",
    "            with self.lock1:\n",
    "                if self.batch_foremost.value == 0:\n",
    "                    np.random.shuffle(self.tids)\n",
    "\n",
    "                batch_current = self.batch_foremost.value\n",
    "                if self.batch_foremost.value + self.batch_size < self.tids.size:\n",
    "                    batch_size = self.batch_size\n",
    "                    self.batch_foremost.value += self.batch_size\n",
    "                else:\n",
    "                    batch_size = self.tids.size - self.batch_foremost.value\n",
    "                    self.batch_foremost.value = 0\n",
    "\n",
    "                # print(self.tids, self.batch_foremost.value, batch_current, self.tids[batch_current], batch_size)\n",
    "                # print('queue', self.tids[batch_current], batch_size)\n",
    "                tids = np.array(self.tids[batch_current:batch_current+batch_size])\n",
    "\n",
    "            batch_size = 0\n",
    "            for tid in tids:\n",
    "                try:\n",
    "                    audio_path = get_audio_path(audio_dir, tid)\n",
    "                    self.X[batch_size] = self.loader.load(audio_path)\n",
    "                    self.Y[batch_size] = Y.loc[tid]\n",
    "                    batch_size += 1\n",
    "                except Exception as e:\n",
    "                    print(\"\\nIgnoring \" + audio_path +\" (error: \" + str(e) +\").\")\n",
    "\n",
    "            with self.lock2:\n",
    "                while (batch_current - self.batch_rearmost.value) % self.tids.size > self.batch_size:\n",
    "                    # print('wait', indices[0], batch_current, self.batch_rearmost.value)\n",
    "                    self.condition.wait()\n",
    "                self.condition.notify_all()\n",
    "                # print('yield', indices[0], batch_current, self.batch_rearmost.value)\n",
    "                self.batch_rearmost.value = batch_current\n",
    "\n",
    "                return self.X[:batch_size], self.Y[:batch_size]\n",
    "\n",
    "    return SampleLoader"
   ]
  },
  {
   "cell_type": "code",
   "execution_count": 3,
   "metadata": {
    "colab": {
     "base_uri": "https://localhost:8080/",
     "height": 468
    },
    "id": "NlTrdPQBkN4y",
    "outputId": "e4fc1814-1b3a-40a0-ac7b-09a7fa73ffbe"
   },
   "outputs": [
    {
     "data": {
      "text/plain": [
       "((106574, 52), (163, 4), (106574, 518), (13129, 249))"
      ]
     },
     "execution_count": 3,
     "metadata": {},
     "output_type": "execute_result"
    }
   ],
   "source": [
    "# Directory where mp3 are stored.\n",
    "AUDIO_DIR = os.environ.get('AUDIO_DIR')\n",
    "\n",
    "# Load metadata and features.\n",
    "tracks = load(f'{folder_path}/tracks.csv')\n",
    "genres = load(f'{folder_path}/genres.csv')\n",
    "features = load(f'{folder_path}/features.csv')\n",
    "echonest = load(f'{folder_path}/echonest.csv')\n",
    "\n",
    "np.testing.assert_array_equal(features.index, tracks.index)\n",
    "assert echonest.index.isin(tracks.index).all()\n",
    "\n",
    "tracks.shape, genres.shape, features.shape, echonest.shape"
   ]
  },
  {
   "cell_type": "code",
   "execution_count": 4,
   "metadata": {
    "colab": {
     "base_uri": "https://localhost:8080/",
     "height": 317
    },
    "id": "TAX74hBCnGi5",
    "outputId": "ba5869b3-01d9-44a5-ce51-4f1089213566"
   },
   "outputs": [
    {
     "data": {
      "text/html": [
       "<div>\n",
       "<style scoped>\n",
       "    .dataframe tbody tr th:only-of-type {\n",
       "        vertical-align: middle;\n",
       "    }\n",
       "\n",
       "    .dataframe tbody tr th {\n",
       "        vertical-align: top;\n",
       "    }\n",
       "\n",
       "    .dataframe thead tr th {\n",
       "        text-align: left;\n",
       "    }\n",
       "\n",
       "    .dataframe thead tr:last-of-type th {\n",
       "        text-align: right;\n",
       "    }\n",
       "</style>\n",
       "<table border=\"1\" class=\"dataframe\">\n",
       "  <thead>\n",
       "    <tr>\n",
       "      <th></th>\n",
       "      <th colspan=\"10\" halign=\"left\">album</th>\n",
       "      <th>...</th>\n",
       "      <th colspan=\"10\" halign=\"left\">track</th>\n",
       "    </tr>\n",
       "    <tr>\n",
       "      <th></th>\n",
       "      <th>comments</th>\n",
       "      <th>date_created</th>\n",
       "      <th>date_released</th>\n",
       "      <th>engineer</th>\n",
       "      <th>favorites</th>\n",
       "      <th>id</th>\n",
       "      <th>information</th>\n",
       "      <th>listens</th>\n",
       "      <th>producer</th>\n",
       "      <th>tags</th>\n",
       "      <th>...</th>\n",
       "      <th>information</th>\n",
       "      <th>interest</th>\n",
       "      <th>language_code</th>\n",
       "      <th>license</th>\n",
       "      <th>listens</th>\n",
       "      <th>lyricist</th>\n",
       "      <th>number</th>\n",
       "      <th>publisher</th>\n",
       "      <th>tags</th>\n",
       "      <th>title</th>\n",
       "    </tr>\n",
       "    <tr>\n",
       "      <th>track_id</th>\n",
       "      <th></th>\n",
       "      <th></th>\n",
       "      <th></th>\n",
       "      <th></th>\n",
       "      <th></th>\n",
       "      <th></th>\n",
       "      <th></th>\n",
       "      <th></th>\n",
       "      <th></th>\n",
       "      <th></th>\n",
       "      <th></th>\n",
       "      <th></th>\n",
       "      <th></th>\n",
       "      <th></th>\n",
       "      <th></th>\n",
       "      <th></th>\n",
       "      <th></th>\n",
       "      <th></th>\n",
       "      <th></th>\n",
       "      <th></th>\n",
       "      <th></th>\n",
       "    </tr>\n",
       "  </thead>\n",
       "  <tbody>\n",
       "    <tr>\n",
       "      <th>2</th>\n",
       "      <td>0</td>\n",
       "      <td>2008-11-26 01:44:45</td>\n",
       "      <td>2009-01-05</td>\n",
       "      <td>NaN</td>\n",
       "      <td>4</td>\n",
       "      <td>1</td>\n",
       "      <td>&lt;p&gt;&lt;/p&gt;</td>\n",
       "      <td>6073</td>\n",
       "      <td>NaN</td>\n",
       "      <td>[]</td>\n",
       "      <td>...</td>\n",
       "      <td>NaN</td>\n",
       "      <td>4656</td>\n",
       "      <td>en</td>\n",
       "      <td>Attribution-NonCommercial-ShareAlike 3.0 Inter...</td>\n",
       "      <td>1293</td>\n",
       "      <td>NaN</td>\n",
       "      <td>3</td>\n",
       "      <td>NaN</td>\n",
       "      <td>[]</td>\n",
       "      <td>Food</td>\n",
       "    </tr>\n",
       "    <tr>\n",
       "      <th>3</th>\n",
       "      <td>0</td>\n",
       "      <td>2008-11-26 01:44:45</td>\n",
       "      <td>2009-01-05</td>\n",
       "      <td>NaN</td>\n",
       "      <td>4</td>\n",
       "      <td>1</td>\n",
       "      <td>&lt;p&gt;&lt;/p&gt;</td>\n",
       "      <td>6073</td>\n",
       "      <td>NaN</td>\n",
       "      <td>[]</td>\n",
       "      <td>...</td>\n",
       "      <td>NaN</td>\n",
       "      <td>1470</td>\n",
       "      <td>en</td>\n",
       "      <td>Attribution-NonCommercial-ShareAlike 3.0 Inter...</td>\n",
       "      <td>514</td>\n",
       "      <td>NaN</td>\n",
       "      <td>4</td>\n",
       "      <td>NaN</td>\n",
       "      <td>[]</td>\n",
       "      <td>Electric Ave</td>\n",
       "    </tr>\n",
       "    <tr>\n",
       "      <th>5</th>\n",
       "      <td>0</td>\n",
       "      <td>2008-11-26 01:44:45</td>\n",
       "      <td>2009-01-05</td>\n",
       "      <td>NaN</td>\n",
       "      <td>4</td>\n",
       "      <td>1</td>\n",
       "      <td>&lt;p&gt;&lt;/p&gt;</td>\n",
       "      <td>6073</td>\n",
       "      <td>NaN</td>\n",
       "      <td>[]</td>\n",
       "      <td>...</td>\n",
       "      <td>NaN</td>\n",
       "      <td>1933</td>\n",
       "      <td>en</td>\n",
       "      <td>Attribution-NonCommercial-ShareAlike 3.0 Inter...</td>\n",
       "      <td>1151</td>\n",
       "      <td>NaN</td>\n",
       "      <td>6</td>\n",
       "      <td>NaN</td>\n",
       "      <td>[]</td>\n",
       "      <td>This World</td>\n",
       "    </tr>\n",
       "    <tr>\n",
       "      <th>10</th>\n",
       "      <td>0</td>\n",
       "      <td>2008-11-26 01:45:08</td>\n",
       "      <td>2008-02-06</td>\n",
       "      <td>NaN</td>\n",
       "      <td>4</td>\n",
       "      <td>6</td>\n",
       "      <td>NaN</td>\n",
       "      <td>47632</td>\n",
       "      <td>NaN</td>\n",
       "      <td>[]</td>\n",
       "      <td>...</td>\n",
       "      <td>NaN</td>\n",
       "      <td>54881</td>\n",
       "      <td>en</td>\n",
       "      <td>Attribution-NonCommercial-NoDerivatives (aka M...</td>\n",
       "      <td>50135</td>\n",
       "      <td>NaN</td>\n",
       "      <td>1</td>\n",
       "      <td>NaN</td>\n",
       "      <td>[]</td>\n",
       "      <td>Freeway</td>\n",
       "    </tr>\n",
       "    <tr>\n",
       "      <th>20</th>\n",
       "      <td>0</td>\n",
       "      <td>2008-11-26 01:45:05</td>\n",
       "      <td>2009-01-06</td>\n",
       "      <td>NaN</td>\n",
       "      <td>2</td>\n",
       "      <td>4</td>\n",
       "      <td>&lt;p&gt; \"spiritual songs\" from Nicky Cook&lt;/p&gt;</td>\n",
       "      <td>2710</td>\n",
       "      <td>NaN</td>\n",
       "      <td>[]</td>\n",
       "      <td>...</td>\n",
       "      <td>NaN</td>\n",
       "      <td>978</td>\n",
       "      <td>en</td>\n",
       "      <td>Attribution-NonCommercial-NoDerivatives (aka M...</td>\n",
       "      <td>361</td>\n",
       "      <td>NaN</td>\n",
       "      <td>3</td>\n",
       "      <td>NaN</td>\n",
       "      <td>[]</td>\n",
       "      <td>Spiritual Level</td>\n",
       "    </tr>\n",
       "  </tbody>\n",
       "</table>\n",
       "<p>5 rows × 52 columns</p>\n",
       "</div>"
      ],
      "text/plain": [
       "            album                                                          \\\n",
       "         comments        date_created date_released engineer favorites id   \n",
       "track_id                                                                    \n",
       "2               0 2008-11-26 01:44:45    2009-01-05      NaN         4  1   \n",
       "3               0 2008-11-26 01:44:45    2009-01-05      NaN         4  1   \n",
       "5               0 2008-11-26 01:44:45    2009-01-05      NaN         4  1   \n",
       "10              0 2008-11-26 01:45:08    2008-02-06      NaN         4  6   \n",
       "20              0 2008-11-26 01:45:05    2009-01-06      NaN         2  4   \n",
       "\n",
       "                                                                           \\\n",
       "                                        information listens producer tags   \n",
       "track_id                                                                    \n",
       "2                                           <p></p>    6073      NaN   []   \n",
       "3                                           <p></p>    6073      NaN   []   \n",
       "5                                           <p></p>    6073      NaN   []   \n",
       "10                                              NaN   47632      NaN   []   \n",
       "20        <p> \"spiritual songs\" from Nicky Cook</p>    2710      NaN   []   \n",
       "\n",
       "          ...       track                         \\\n",
       "          ... information interest language_code   \n",
       "track_id  ...                                      \n",
       "2         ...         NaN     4656            en   \n",
       "3         ...         NaN     1470            en   \n",
       "5         ...         NaN     1933            en   \n",
       "10        ...         NaN    54881            en   \n",
       "20        ...         NaN      978            en   \n",
       "\n",
       "                                                                              \\\n",
       "                                                    license listens lyricist   \n",
       "track_id                                                                       \n",
       "2         Attribution-NonCommercial-ShareAlike 3.0 Inter...    1293      NaN   \n",
       "3         Attribution-NonCommercial-ShareAlike 3.0 Inter...     514      NaN   \n",
       "5         Attribution-NonCommercial-ShareAlike 3.0 Inter...    1151      NaN   \n",
       "10        Attribution-NonCommercial-NoDerivatives (aka M...   50135      NaN   \n",
       "20        Attribution-NonCommercial-NoDerivatives (aka M...     361      NaN   \n",
       "\n",
       "                                                 \n",
       "         number publisher tags            title  \n",
       "track_id                                         \n",
       "2             3       NaN   []             Food  \n",
       "3             4       NaN   []     Electric Ave  \n",
       "5             6       NaN   []       This World  \n",
       "10            1       NaN   []          Freeway  \n",
       "20            3       NaN   []  Spiritual Level  \n",
       "\n",
       "[5 rows x 52 columns]"
      ]
     },
     "execution_count": 4,
     "metadata": {},
     "output_type": "execute_result"
    }
   ],
   "source": [
    "tracks.head()"
   ]
  },
  {
   "cell_type": "code",
   "execution_count": 5,
   "metadata": {},
   "outputs": [
    {
     "data": {
      "text/html": [
       "<div>\n",
       "<style scoped>\n",
       "    .dataframe tbody tr th:only-of-type {\n",
       "        vertical-align: middle;\n",
       "    }\n",
       "\n",
       "    .dataframe tbody tr th {\n",
       "        vertical-align: top;\n",
       "    }\n",
       "\n",
       "    .dataframe thead th {\n",
       "        text-align: right;\n",
       "    }\n",
       "</style>\n",
       "<table border=\"1\" class=\"dataframe\">\n",
       "  <thead>\n",
       "    <tr style=\"text-align: right;\">\n",
       "      <th></th>\n",
       "      <th>#tracks</th>\n",
       "      <th>parent</th>\n",
       "      <th>title</th>\n",
       "      <th>top_level</th>\n",
       "    </tr>\n",
       "    <tr>\n",
       "      <th>genre_id</th>\n",
       "      <th></th>\n",
       "      <th></th>\n",
       "      <th></th>\n",
       "      <th></th>\n",
       "    </tr>\n",
       "  </thead>\n",
       "  <tbody>\n",
       "    <tr>\n",
       "      <th>1</th>\n",
       "      <td>8693</td>\n",
       "      <td>38</td>\n",
       "      <td>Avant-Garde</td>\n",
       "      <td>38</td>\n",
       "    </tr>\n",
       "    <tr>\n",
       "      <th>2</th>\n",
       "      <td>5271</td>\n",
       "      <td>0</td>\n",
       "      <td>International</td>\n",
       "      <td>2</td>\n",
       "    </tr>\n",
       "    <tr>\n",
       "      <th>3</th>\n",
       "      <td>1752</td>\n",
       "      <td>0</td>\n",
       "      <td>Blues</td>\n",
       "      <td>3</td>\n",
       "    </tr>\n",
       "    <tr>\n",
       "      <th>4</th>\n",
       "      <td>4126</td>\n",
       "      <td>0</td>\n",
       "      <td>Jazz</td>\n",
       "      <td>4</td>\n",
       "    </tr>\n",
       "    <tr>\n",
       "      <th>5</th>\n",
       "      <td>4106</td>\n",
       "      <td>0</td>\n",
       "      <td>Classical</td>\n",
       "      <td>5</td>\n",
       "    </tr>\n",
       "  </tbody>\n",
       "</table>\n",
       "</div>"
      ],
      "text/plain": [
       "          #tracks  parent          title  top_level\n",
       "genre_id                                           \n",
       "1            8693      38    Avant-Garde         38\n",
       "2            5271       0  International          2\n",
       "3            1752       0          Blues          3\n",
       "4            4126       0           Jazz          4\n",
       "5            4106       0      Classical          5"
      ]
     },
     "execution_count": 5,
     "metadata": {},
     "output_type": "execute_result"
    }
   ],
   "source": [
    "genres.head()"
   ]
  },
  {
   "cell_type": "code",
   "execution_count": 6,
   "metadata": {},
   "outputs": [
    {
     "data": {
      "text/html": [
       "<div>\n",
       "<style scoped>\n",
       "    .dataframe tbody tr th:only-of-type {\n",
       "        vertical-align: middle;\n",
       "    }\n",
       "\n",
       "    .dataframe tbody tr th {\n",
       "        vertical-align: top;\n",
       "    }\n",
       "\n",
       "    .dataframe thead tr th {\n",
       "        text-align: left;\n",
       "    }\n",
       "\n",
       "    .dataframe thead tr:last-of-type th {\n",
       "        text-align: right;\n",
       "    }\n",
       "</style>\n",
       "<table border=\"1\" class=\"dataframe\">\n",
       "  <thead>\n",
       "    <tr>\n",
       "      <th>feature</th>\n",
       "      <th colspan=\"10\" halign=\"left\">chroma_cens</th>\n",
       "      <th>...</th>\n",
       "      <th colspan=\"3\" halign=\"left\">tonnetz</th>\n",
       "      <th colspan=\"7\" halign=\"left\">zcr</th>\n",
       "    </tr>\n",
       "    <tr>\n",
       "      <th>statistics</th>\n",
       "      <th colspan=\"10\" halign=\"left\">kurtosis</th>\n",
       "      <th>...</th>\n",
       "      <th colspan=\"3\" halign=\"left\">std</th>\n",
       "      <th>kurtosis</th>\n",
       "      <th>max</th>\n",
       "      <th>mean</th>\n",
       "      <th>median</th>\n",
       "      <th>min</th>\n",
       "      <th>skew</th>\n",
       "      <th>std</th>\n",
       "    </tr>\n",
       "    <tr>\n",
       "      <th>number</th>\n",
       "      <th>01</th>\n",
       "      <th>02</th>\n",
       "      <th>03</th>\n",
       "      <th>04</th>\n",
       "      <th>05</th>\n",
       "      <th>06</th>\n",
       "      <th>07</th>\n",
       "      <th>08</th>\n",
       "      <th>09</th>\n",
       "      <th>10</th>\n",
       "      <th>...</th>\n",
       "      <th>04</th>\n",
       "      <th>05</th>\n",
       "      <th>06</th>\n",
       "      <th>01</th>\n",
       "      <th>01</th>\n",
       "      <th>01</th>\n",
       "      <th>01</th>\n",
       "      <th>01</th>\n",
       "      <th>01</th>\n",
       "      <th>01</th>\n",
       "    </tr>\n",
       "    <tr>\n",
       "      <th>track_id</th>\n",
       "      <th></th>\n",
       "      <th></th>\n",
       "      <th></th>\n",
       "      <th></th>\n",
       "      <th></th>\n",
       "      <th></th>\n",
       "      <th></th>\n",
       "      <th></th>\n",
       "      <th></th>\n",
       "      <th></th>\n",
       "      <th></th>\n",
       "      <th></th>\n",
       "      <th></th>\n",
       "      <th></th>\n",
       "      <th></th>\n",
       "      <th></th>\n",
       "      <th></th>\n",
       "      <th></th>\n",
       "      <th></th>\n",
       "      <th></th>\n",
       "      <th></th>\n",
       "    </tr>\n",
       "  </thead>\n",
       "  <tbody>\n",
       "    <tr>\n",
       "      <th>2</th>\n",
       "      <td>7.180653</td>\n",
       "      <td>5.230309</td>\n",
       "      <td>0.249321</td>\n",
       "      <td>1.347620</td>\n",
       "      <td>1.482478</td>\n",
       "      <td>0.531371</td>\n",
       "      <td>1.481593</td>\n",
       "      <td>2.691455</td>\n",
       "      <td>0.866868</td>\n",
       "      <td>1.341231</td>\n",
       "      <td>...</td>\n",
       "      <td>0.054125</td>\n",
       "      <td>0.012226</td>\n",
       "      <td>0.012111</td>\n",
       "      <td>5.758890</td>\n",
       "      <td>0.459473</td>\n",
       "      <td>0.085629</td>\n",
       "      <td>0.071289</td>\n",
       "      <td>0.000000</td>\n",
       "      <td>2.089872</td>\n",
       "      <td>0.061448</td>\n",
       "    </tr>\n",
       "    <tr>\n",
       "      <th>3</th>\n",
       "      <td>1.888963</td>\n",
       "      <td>0.760539</td>\n",
       "      <td>0.345297</td>\n",
       "      <td>2.295201</td>\n",
       "      <td>1.654031</td>\n",
       "      <td>0.067592</td>\n",
       "      <td>1.366848</td>\n",
       "      <td>1.054094</td>\n",
       "      <td>0.108103</td>\n",
       "      <td>0.619185</td>\n",
       "      <td>...</td>\n",
       "      <td>0.063831</td>\n",
       "      <td>0.014212</td>\n",
       "      <td>0.017740</td>\n",
       "      <td>2.824694</td>\n",
       "      <td>0.466309</td>\n",
       "      <td>0.084578</td>\n",
       "      <td>0.063965</td>\n",
       "      <td>0.000000</td>\n",
       "      <td>1.716724</td>\n",
       "      <td>0.069330</td>\n",
       "    </tr>\n",
       "    <tr>\n",
       "      <th>5</th>\n",
       "      <td>0.527563</td>\n",
       "      <td>-0.077654</td>\n",
       "      <td>-0.279610</td>\n",
       "      <td>0.685883</td>\n",
       "      <td>1.937570</td>\n",
       "      <td>0.880839</td>\n",
       "      <td>-0.923192</td>\n",
       "      <td>-0.927232</td>\n",
       "      <td>0.666617</td>\n",
       "      <td>1.038546</td>\n",
       "      <td>...</td>\n",
       "      <td>0.040730</td>\n",
       "      <td>0.012691</td>\n",
       "      <td>0.014759</td>\n",
       "      <td>6.808415</td>\n",
       "      <td>0.375000</td>\n",
       "      <td>0.053114</td>\n",
       "      <td>0.041504</td>\n",
       "      <td>0.000000</td>\n",
       "      <td>2.193303</td>\n",
       "      <td>0.044861</td>\n",
       "    </tr>\n",
       "    <tr>\n",
       "      <th>10</th>\n",
       "      <td>3.702245</td>\n",
       "      <td>-0.291193</td>\n",
       "      <td>2.196742</td>\n",
       "      <td>-0.234449</td>\n",
       "      <td>1.367364</td>\n",
       "      <td>0.998411</td>\n",
       "      <td>1.770694</td>\n",
       "      <td>1.604566</td>\n",
       "      <td>0.521217</td>\n",
       "      <td>1.982386</td>\n",
       "      <td>...</td>\n",
       "      <td>0.074358</td>\n",
       "      <td>0.017952</td>\n",
       "      <td>0.013921</td>\n",
       "      <td>21.434212</td>\n",
       "      <td>0.452148</td>\n",
       "      <td>0.077515</td>\n",
       "      <td>0.071777</td>\n",
       "      <td>0.000000</td>\n",
       "      <td>3.542325</td>\n",
       "      <td>0.040800</td>\n",
       "    </tr>\n",
       "    <tr>\n",
       "      <th>20</th>\n",
       "      <td>-0.193837</td>\n",
       "      <td>-0.198527</td>\n",
       "      <td>0.201546</td>\n",
       "      <td>0.258556</td>\n",
       "      <td>0.775204</td>\n",
       "      <td>0.084794</td>\n",
       "      <td>-0.289294</td>\n",
       "      <td>-0.816410</td>\n",
       "      <td>0.043851</td>\n",
       "      <td>-0.804761</td>\n",
       "      <td>...</td>\n",
       "      <td>0.095003</td>\n",
       "      <td>0.022492</td>\n",
       "      <td>0.021355</td>\n",
       "      <td>16.669037</td>\n",
       "      <td>0.469727</td>\n",
       "      <td>0.047225</td>\n",
       "      <td>0.040039</td>\n",
       "      <td>0.000977</td>\n",
       "      <td>3.189831</td>\n",
       "      <td>0.030993</td>\n",
       "    </tr>\n",
       "  </tbody>\n",
       "</table>\n",
       "<p>5 rows × 518 columns</p>\n",
       "</div>"
      ],
      "text/plain": [
       "feature    chroma_cens                                                    \\\n",
       "statistics    kurtosis                                                     \n",
       "number              01        02        03        04        05        06   \n",
       "track_id                                                                   \n",
       "2             7.180653  5.230309  0.249321  1.347620  1.482478  0.531371   \n",
       "3             1.888963  0.760539  0.345297  2.295201  1.654031  0.067592   \n",
       "5             0.527563 -0.077654 -0.279610  0.685883  1.937570  0.880839   \n",
       "10            3.702245 -0.291193  2.196742 -0.234449  1.367364  0.998411   \n",
       "20           -0.193837 -0.198527  0.201546  0.258556  0.775204  0.084794   \n",
       "\n",
       "feature                                             ...   tonnetz            \\\n",
       "statistics                                          ...       std             \n",
       "number            07        08        09        10  ...        04        05   \n",
       "track_id                                            ...                       \n",
       "2           1.481593  2.691455  0.866868  1.341231  ...  0.054125  0.012226   \n",
       "3           1.366848  1.054094  0.108103  0.619185  ...  0.063831  0.014212   \n",
       "5          -0.923192 -0.927232  0.666617  1.038546  ...  0.040730  0.012691   \n",
       "10          1.770694  1.604566  0.521217  1.982386  ...  0.074358  0.017952   \n",
       "20         -0.289294 -0.816410  0.043851 -0.804761  ...  0.095003  0.022492   \n",
       "\n",
       "feature                     zcr                                          \\\n",
       "statistics             kurtosis       max      mean    median       min   \n",
       "number            06         01        01        01        01        01   \n",
       "track_id                                                                  \n",
       "2           0.012111   5.758890  0.459473  0.085629  0.071289  0.000000   \n",
       "3           0.017740   2.824694  0.466309  0.084578  0.063965  0.000000   \n",
       "5           0.014759   6.808415  0.375000  0.053114  0.041504  0.000000   \n",
       "10          0.013921  21.434212  0.452148  0.077515  0.071777  0.000000   \n",
       "20          0.021355  16.669037  0.469727  0.047225  0.040039  0.000977   \n",
       "\n",
       "feature                         \n",
       "statistics      skew       std  \n",
       "number            01        01  \n",
       "track_id                        \n",
       "2           2.089872  0.061448  \n",
       "3           1.716724  0.069330  \n",
       "5           2.193303  0.044861  \n",
       "10          3.542325  0.040800  \n",
       "20          3.189831  0.030993  \n",
       "\n",
       "[5 rows x 518 columns]"
      ]
     },
     "execution_count": 6,
     "metadata": {},
     "output_type": "execute_result"
    }
   ],
   "source": [
    "features.head()"
   ]
  },
  {
   "cell_type": "code",
   "execution_count": 7,
   "metadata": {},
   "outputs": [
    {
     "data": {
      "text/html": [
       "<div>\n",
       "<style scoped>\n",
       "    .dataframe tbody tr th:only-of-type {\n",
       "        vertical-align: middle;\n",
       "    }\n",
       "\n",
       "    .dataframe tbody tr th {\n",
       "        vertical-align: top;\n",
       "    }\n",
       "\n",
       "    .dataframe thead tr th {\n",
       "        text-align: left;\n",
       "    }\n",
       "\n",
       "    .dataframe thead tr:last-of-type th {\n",
       "        text-align: right;\n",
       "    }\n",
       "</style>\n",
       "<table border=\"1\" class=\"dataframe\">\n",
       "  <thead>\n",
       "    <tr>\n",
       "      <th></th>\n",
       "      <th colspan=\"21\" halign=\"left\">echonest</th>\n",
       "    </tr>\n",
       "    <tr>\n",
       "      <th></th>\n",
       "      <th colspan=\"8\" halign=\"left\">audio_features</th>\n",
       "      <th colspan=\"2\" halign=\"left\">metadata</th>\n",
       "      <th>...</th>\n",
       "      <th colspan=\"10\" halign=\"left\">temporal_features</th>\n",
       "    </tr>\n",
       "    <tr>\n",
       "      <th></th>\n",
       "      <th>acousticness</th>\n",
       "      <th>danceability</th>\n",
       "      <th>energy</th>\n",
       "      <th>instrumentalness</th>\n",
       "      <th>liveness</th>\n",
       "      <th>speechiness</th>\n",
       "      <th>tempo</th>\n",
       "      <th>valence</th>\n",
       "      <th>album_date</th>\n",
       "      <th>album_name</th>\n",
       "      <th>...</th>\n",
       "      <th>214</th>\n",
       "      <th>215</th>\n",
       "      <th>216</th>\n",
       "      <th>217</th>\n",
       "      <th>218</th>\n",
       "      <th>219</th>\n",
       "      <th>220</th>\n",
       "      <th>221</th>\n",
       "      <th>222</th>\n",
       "      <th>223</th>\n",
       "    </tr>\n",
       "    <tr>\n",
       "      <th>track_id</th>\n",
       "      <th></th>\n",
       "      <th></th>\n",
       "      <th></th>\n",
       "      <th></th>\n",
       "      <th></th>\n",
       "      <th></th>\n",
       "      <th></th>\n",
       "      <th></th>\n",
       "      <th></th>\n",
       "      <th></th>\n",
       "      <th></th>\n",
       "      <th></th>\n",
       "      <th></th>\n",
       "      <th></th>\n",
       "      <th></th>\n",
       "      <th></th>\n",
       "      <th></th>\n",
       "      <th></th>\n",
       "      <th></th>\n",
       "      <th></th>\n",
       "      <th></th>\n",
       "    </tr>\n",
       "  </thead>\n",
       "  <tbody>\n",
       "    <tr>\n",
       "      <th>2</th>\n",
       "      <td>0.416675</td>\n",
       "      <td>0.675894</td>\n",
       "      <td>0.634476</td>\n",
       "      <td>0.010628</td>\n",
       "      <td>0.177647</td>\n",
       "      <td>0.159310</td>\n",
       "      <td>165.922</td>\n",
       "      <td>0.576661</td>\n",
       "      <td>NaN</td>\n",
       "      <td>NaN</td>\n",
       "      <td>...</td>\n",
       "      <td>-1.992303</td>\n",
       "      <td>6.805694</td>\n",
       "      <td>0.233070</td>\n",
       "      <td>0.192880</td>\n",
       "      <td>0.027455</td>\n",
       "      <td>0.06408</td>\n",
       "      <td>3.67696</td>\n",
       "      <td>3.61288</td>\n",
       "      <td>13.316690</td>\n",
       "      <td>262.929749</td>\n",
       "    </tr>\n",
       "    <tr>\n",
       "      <th>3</th>\n",
       "      <td>0.374408</td>\n",
       "      <td>0.528643</td>\n",
       "      <td>0.817461</td>\n",
       "      <td>0.001851</td>\n",
       "      <td>0.105880</td>\n",
       "      <td>0.461818</td>\n",
       "      <td>126.957</td>\n",
       "      <td>0.269240</td>\n",
       "      <td>NaN</td>\n",
       "      <td>NaN</td>\n",
       "      <td>...</td>\n",
       "      <td>-1.582331</td>\n",
       "      <td>8.889308</td>\n",
       "      <td>0.258464</td>\n",
       "      <td>0.220905</td>\n",
       "      <td>0.081368</td>\n",
       "      <td>0.06413</td>\n",
       "      <td>6.08277</td>\n",
       "      <td>6.01864</td>\n",
       "      <td>16.673548</td>\n",
       "      <td>325.581085</td>\n",
       "    </tr>\n",
       "    <tr>\n",
       "      <th>5</th>\n",
       "      <td>0.043567</td>\n",
       "      <td>0.745566</td>\n",
       "      <td>0.701470</td>\n",
       "      <td>0.000697</td>\n",
       "      <td>0.373143</td>\n",
       "      <td>0.124595</td>\n",
       "      <td>100.260</td>\n",
       "      <td>0.621661</td>\n",
       "      <td>NaN</td>\n",
       "      <td>NaN</td>\n",
       "      <td>...</td>\n",
       "      <td>-2.288358</td>\n",
       "      <td>11.527109</td>\n",
       "      <td>0.256821</td>\n",
       "      <td>0.237820</td>\n",
       "      <td>0.060122</td>\n",
       "      <td>0.06014</td>\n",
       "      <td>5.92649</td>\n",
       "      <td>5.86635</td>\n",
       "      <td>16.013849</td>\n",
       "      <td>356.755737</td>\n",
       "    </tr>\n",
       "    <tr>\n",
       "      <th>10</th>\n",
       "      <td>0.951670</td>\n",
       "      <td>0.658179</td>\n",
       "      <td>0.924525</td>\n",
       "      <td>0.965427</td>\n",
       "      <td>0.115474</td>\n",
       "      <td>0.032985</td>\n",
       "      <td>111.562</td>\n",
       "      <td>0.963590</td>\n",
       "      <td>2008-03-11</td>\n",
       "      <td>Constant Hitmaker</td>\n",
       "      <td>...</td>\n",
       "      <td>-3.662988</td>\n",
       "      <td>21.508228</td>\n",
       "      <td>0.283352</td>\n",
       "      <td>0.267070</td>\n",
       "      <td>0.125704</td>\n",
       "      <td>0.08082</td>\n",
       "      <td>8.41401</td>\n",
       "      <td>8.33319</td>\n",
       "      <td>21.317064</td>\n",
       "      <td>483.403809</td>\n",
       "    </tr>\n",
       "    <tr>\n",
       "      <th>134</th>\n",
       "      <td>0.452217</td>\n",
       "      <td>0.513238</td>\n",
       "      <td>0.560410</td>\n",
       "      <td>0.019443</td>\n",
       "      <td>0.096567</td>\n",
       "      <td>0.525519</td>\n",
       "      <td>114.290</td>\n",
       "      <td>0.894072</td>\n",
       "      <td>NaN</td>\n",
       "      <td>NaN</td>\n",
       "      <td>...</td>\n",
       "      <td>-1.452696</td>\n",
       "      <td>2.356398</td>\n",
       "      <td>0.234686</td>\n",
       "      <td>0.199550</td>\n",
       "      <td>0.149332</td>\n",
       "      <td>0.06440</td>\n",
       "      <td>11.26707</td>\n",
       "      <td>11.20267</td>\n",
       "      <td>26.454180</td>\n",
       "      <td>751.147705</td>\n",
       "    </tr>\n",
       "  </tbody>\n",
       "</table>\n",
       "<p>5 rows × 249 columns</p>\n",
       "</div>"
      ],
      "text/plain": [
       "               echonest                                                    \\\n",
       "         audio_features                                                     \n",
       "           acousticness danceability    energy instrumentalness  liveness   \n",
       "track_id                                                                    \n",
       "2              0.416675     0.675894  0.634476         0.010628  0.177647   \n",
       "3              0.374408     0.528643  0.817461         0.001851  0.105880   \n",
       "5              0.043567     0.745566  0.701470         0.000697  0.373143   \n",
       "10             0.951670     0.658179  0.924525         0.965427  0.115474   \n",
       "134            0.452217     0.513238  0.560410         0.019443  0.096567   \n",
       "\n",
       "                                                                        ...  \\\n",
       "                                           metadata                     ...   \n",
       "         speechiness    tempo   valence  album_date         album_name  ...   \n",
       "track_id                                                                ...   \n",
       "2           0.159310  165.922  0.576661         NaN                NaN  ...   \n",
       "3           0.461818  126.957  0.269240         NaN                NaN  ...   \n",
       "5           0.124595  100.260  0.621661         NaN                NaN  ...   \n",
       "10          0.032985  111.562  0.963590  2008-03-11  Constant Hitmaker  ...   \n",
       "134         0.525519  114.290  0.894072         NaN                NaN  ...   \n",
       "\n",
       "                                                                              \\\n",
       "         temporal_features                                                     \n",
       "                       214        215       216       217       218      219   \n",
       "track_id                                                                       \n",
       "2                -1.992303   6.805694  0.233070  0.192880  0.027455  0.06408   \n",
       "3                -1.582331   8.889308  0.258464  0.220905  0.081368  0.06413   \n",
       "5                -2.288358  11.527109  0.256821  0.237820  0.060122  0.06014   \n",
       "10               -3.662988  21.508228  0.283352  0.267070  0.125704  0.08082   \n",
       "134              -1.452696   2.356398  0.234686  0.199550  0.149332  0.06440   \n",
       "\n",
       "                                                     \n",
       "                                                     \n",
       "               220       221        222         223  \n",
       "track_id                                             \n",
       "2          3.67696   3.61288  13.316690  262.929749  \n",
       "3          6.08277   6.01864  16.673548  325.581085  \n",
       "5          5.92649   5.86635  16.013849  356.755737  \n",
       "10         8.41401   8.33319  21.317064  483.403809  \n",
       "134       11.26707  11.20267  26.454180  751.147705  \n",
       "\n",
       "[5 rows x 249 columns]"
      ]
     },
     "execution_count": 7,
     "metadata": {},
     "output_type": "execute_result"
    }
   ],
   "source": [
    "echonest.head()"
   ]
  },
  {
   "cell_type": "code",
   "execution_count": 8,
   "metadata": {
    "colab": {
     "base_uri": "https://localhost:8080/"
    },
    "id": "aUZCQbL7uVm7",
    "outputId": "58ac5ce2-698b-4db4-9be5-c7ca399dca27"
   },
   "outputs": [],
   "source": [
    "small = tracks[tracks['set', 'subset'] <= 'small']\n",
    "medium = tracks[tracks['set', 'subset'] <= 'medium']\n",
    "columns = ['mfcc', 'chroma_cens', 'tonnetz', 'spectral_contrast']\n",
    "columns.append(['spectral_centroid', 'spectral_bandwidth', 'spectral_rolloff'])\n",
    "columns.append(['rmse', 'zcr'])\n",
    "small = tracks['set', 'subset'] <= 'small'\n",
    "genre1 = tracks['track', 'genre_top'] == 'Instrumental'\n",
    "genre2 = tracks['track', 'genre_top'] == 'Hip-Hop'"
   ]
  },
  {
   "cell_type": "markdown",
   "metadata": {},
   "source": [
    "# Without PCA"
   ]
  },
  {
   "cell_type": "code",
   "execution_count": 9,
   "metadata": {},
   "outputs": [],
   "source": [
    "X = features.loc[small & (genre1 | genre2), 'mfcc']\n",
    "y = tracks.loc[small & (genre1 | genre2), ('track', 'genre_top')]"
   ]
  },
  {
   "cell_type": "code",
   "execution_count": 10,
   "metadata": {},
   "outputs": [
    {
     "data": {
      "text/plain": [
       "{'Hip-Hop', 'Instrumental'}"
      ]
     },
     "execution_count": 10,
     "metadata": {},
     "output_type": "execute_result"
    }
   ],
   "source": [
    "set(y)"
   ]
  },
  {
   "cell_type": "code",
   "execution_count": 11,
   "metadata": {},
   "outputs": [],
   "source": [
    "y = skl.preprocessing.LabelEncoder().fit_transform(y)"
   ]
  },
  {
   "cell_type": "code",
   "execution_count": 12,
   "metadata": {},
   "outputs": [
    {
     "data": {
      "text/plain": [
       "((2000, 140), (2000,))"
      ]
     },
     "execution_count": 12,
     "metadata": {},
     "output_type": "execute_result"
    }
   ],
   "source": [
    "X.shape, y.shape"
   ]
  },
  {
   "cell_type": "code",
   "execution_count": 13,
   "metadata": {},
   "outputs": [
    {
     "data": {
      "text/plain": [
       "2"
      ]
     },
     "execution_count": 13,
     "metadata": {},
     "output_type": "execute_result"
    }
   ],
   "source": [
    "cluster_count = len(set(y))\n",
    "cluster_count"
   ]
  },
  {
   "cell_type": "markdown",
   "metadata": {},
   "source": [
    "# Kmeans without PCA"
   ]
  },
  {
   "cell_type": "code",
   "execution_count": 25,
   "metadata": {},
   "outputs": [],
   "source": [
    "X = X.values"
   ]
  },
  {
   "cell_type": "code",
   "execution_count": 26,
   "metadata": {},
   "outputs": [
    {
     "data": {
      "text/plain": [
       "0.3805621538620501"
      ]
     },
     "execution_count": 26,
     "metadata": {},
     "output_type": "execute_result"
    }
   ],
   "source": [
    "import numpy as np\n",
    "import matplotlib.pyplot as plt\n",
    "from sklearn.cluster import KMeans\n",
    "# Apply the KMeans algorithm to the  data\n",
    "kmeans = KMeans(n_clusters=2, random_state=42)\n",
    "labels_kmeans = kmeans.fit_predict(X)\n",
    "silhouette_score(X, labels_kmeans)"
   ]
  },
  {
   "cell_type": "code",
   "execution_count": 27,
   "metadata": {},
   "outputs": [],
   "source": [
    "# Get the cluster labels and centers\n",
    "labels = kmeans.labels_\n",
    "centers = kmeans.cluster_centers_"
   ]
  },
  {
   "cell_type": "code",
   "execution_count": 28,
   "metadata": {},
   "outputs": [
    {
     "data": {
      "text/plain": [
       "{0, 1}"
      ]
     },
     "execution_count": 28,
     "metadata": {},
     "output_type": "execute_result"
    }
   ],
   "source": [
    "set(labels_kmeans)"
   ]
  },
  {
   "cell_type": "code",
   "execution_count": 29,
   "metadata": {},
   "outputs": [
    {
     "data": {
      "image/png": "[encoded data removed]",
      "text/plain": [
       "<Figure size 432x288 with 1 Axes>"
      ]
     },
     "metadata": {
      "needs_background": "light"
     },
     "output_type": "display_data"
    }
   ],
   "source": [
    "plt.scatter(X[labels_kmeans == 0, 0], X[labels_kmeans == 0, 1], s = 100, c = 'red', label = 'Cluster 1')\n",
    "plt.scatter(X[labels_kmeans == 1, 0], X[labels_kmeans == 1, 1], s = 100, c = 'blue', label = 'Cluster 2')\n",
    "\n",
    "plt.scatter(centers[:, 0], centers[:, 1], s = 300, c = 'yellow', label = 'Centroids')\n",
    "plt.title('Clusters')\n",
    "plt.xlabel('Obs y')\n",
    "plt.ylabel('Obs x')\n",
    "plt.legend()\n",
    "plt.show()"
   ]
  },
  {
   "cell_type": "markdown",
   "metadata": {},
   "source": [
    "# EM without PCA"
   ]
  },
  {
   "cell_type": "code",
   "execution_count": 30,
   "metadata": {},
   "outputs": [],
   "source": [
    "from sklearn.mixture import GaussianMixture\n",
    "# Create a Gaussian Mixture model with 5 components\n",
    "gmm = GaussianMixture(n_components=cluster_count, random_state=0)\n",
    "\n",
    "# Fit the model to the time series data\n",
    "gmm.fit(X)\n",
    "\n",
    "# Get the cluster labels for each time series\n",
    "labels_em = gmm.predict(X)\n",
    "\n",
    "# Get the means and covariances of the components\n",
    "means = gmm.means_\n",
    "covariances = gmm.covariances_"
   ]
  },
  {
   "cell_type": "code",
   "execution_count": 31,
   "metadata": {},
   "outputs": [
    {
     "data": {
      "text/plain": [
       "0.3439771342861442"
      ]
     },
     "execution_count": 31,
     "metadata": {},
     "output_type": "execute_result"
    }
   ],
   "source": [
    "silhouette_score(X, labels_em)"
   ]
  },
  {
   "cell_type": "markdown",
   "metadata": {},
   "source": [
    "# Hierarchical Clustering (before PCA)\n"
   ]
  },
  {
   "cell_type": "code",
   "execution_count": 33,
   "metadata": {},
   "outputs": [
    {
     "data": {
      "image/png": "[encoded data removed]",
      "text/plain": [
       "<Figure size 432x288 with 1 Axes>"
      ]
     },
     "metadata": {
      "needs_background": "light"
     },
     "output_type": "display_data"
    }
   ],
   "source": [
    "import scipy.cluster.hierarchy as sch\n",
    "dendrogram = sch.dendrogram(sch.linkage(X, method = 'ward'))\n",
    "plt.title('Dendrogram')\n",
    "plt.xlabel('Obs')\n",
    "plt.ylabel('Euclidean distances')\n",
    "plt.show()"
   ]
  },
  {
   "cell_type": "code",
   "execution_count": 34,
   "metadata": {},
   "outputs": [],
   "source": [
    "from sklearn.cluster import AgglomerativeClustering\n",
    "hc = AgglomerativeClustering(n_clusters = cluster_count, affinity = 'euclidean', linkage = 'ward')\n",
    "labels_hc = hc.fit_predict(X)"
   ]
  },
  {
   "cell_type": "code",
   "execution_count": 35,
   "metadata": {},
   "outputs": [
    {
     "data": {
      "text/plain": [
       "0.27950765829808083"
      ]
     },
     "execution_count": 35,
     "metadata": {},
     "output_type": "execute_result"
    }
   ],
   "source": [
    "silhouette_score(X, labels_hc)"
   ]
  },
  {
   "cell_type": "markdown",
   "metadata": {},
   "source": [
    "# DBSCAN (before PCA)"
   ]
  },
  {
   "cell_type": "code",
   "execution_count": 82,
   "metadata": {},
   "outputs": [
    {
     "name": "stdout",
     "output_type": "stream",
     "text": [
      "The number of clusters is: 7\n"
     ]
    }
   ],
   "source": [
    "from sklearn.cluster import DBSCAN\n",
    "# eps is epsilon the starting point, and min_samples is the minimum points that must\n",
    "# exist for cluster to be formed\n",
    "dbscan = DBSCAN(eps=0.01, min_samples=2).fit(X)\n",
    "labels_db = dbscan.labels_\n",
    "\n",
    "# Print the data and the number of clusters\n",
    "print(f'The number of clusters is: {len(set(labels_db))}')"
   ]
  },
  {
   "cell_type": "code",
   "execution_count": 83,
   "metadata": {},
   "outputs": [
    {
     "data": {
      "text/plain": [
       "-0.19854322189209336"
      ]
     },
     "execution_count": 83,
     "metadata": {},
     "output_type": "execute_result"
    }
   ],
   "source": [
    "silhouette_score(X, labels_db)"
   ]
  },
  {
   "cell_type": "code",
   "execution_count": 84,
   "metadata": {},
   "outputs": [
    {
     "data": {
      "image/png": "[encoded data removed]",
      "text/plain": [
       "<Figure size 432x288 with 1 Axes>"
      ]
     },
     "metadata": {
      "needs_background": "light"
     },
     "output_type": "display_data"
    }
   ],
   "source": [
    "import numpy as np\n",
    "unique_labels = set(labels_db)\n",
    "colors = [plt.cm.Spectral(each) for each in np.linspace(0, 1, len(unique_labels))]\n",
    "for k, col in zip(unique_labels, colors):\n",
    "    if k == -1:\n",
    "        col = [0, 0, 0, 1] # noise points in black\n",
    "    class_member_mask = (labels_db == k)\n",
    "    xy = X[class_member_mask]\n",
    "    plt.plot(xy[:, 0], xy[:, 1], 'o', markerfacecolor=tuple(col), markeredgecolor='k', markersize=14)\n",
    "    plt.title('Number of clusters: {}'.format(2))\n",
    "\n",
    "plt.show()"
   ]
  },
  {
   "cell_type": "markdown",
   "metadata": {},
   "source": [
    "# Anomaly detection using Isolation Forest"
   ]
  },
  {
   "cell_type": "code",
   "execution_count": 86,
   "metadata": {},
   "outputs": [
    {
     "data": {
      "text/plain": [
       "(1800, 140)"
      ]
     },
     "execution_count": 86,
     "metadata": {},
     "output_type": "execute_result"
    }
   ],
   "source": [
    "isolation_forest = IsolationForest(n_estimators=100, contamination=0.1)\n",
    "isolation_forest.fit(X)\n",
    "inliers_X = X[isolation_forest.predict(X) == 1]\n",
    "inliers_y = y[isolation_forest.predict(X) == 1]\n",
    "inliers_X.shape"
   ]
  },
  {
   "cell_type": "markdown",
   "metadata": {},
   "source": [
    "# Kmeans without Anomalies"
   ]
  },
  {
   "cell_type": "code",
   "execution_count": 87,
   "metadata": {},
   "outputs": [],
   "source": [
    "# Apply the KMeans algorithm to the  data\n",
    "km = KMeans(n_clusters = 2, random_state = 0)\n",
    "labels_kmeans = km.fit_predict(inliers_X)"
   ]
  },
  {
   "cell_type": "code",
   "execution_count": 88,
   "metadata": {},
   "outputs": [
    {
     "data": {
      "text/plain": [
       "0.38836850386339267"
      ]
     },
     "execution_count": 88,
     "metadata": {},
     "output_type": "execute_result"
    }
   ],
   "source": [
    "silhouette_score(inliers_X, labels_kmeans)"
   ]
  },
  {
   "cell_type": "code",
   "execution_count": 89,
   "metadata": {},
   "outputs": [
    {
     "data": {
      "image/png": "[encoded data removed]",
      "text/plain": [
       "<Figure size 432x288 with 1 Axes>"
      ]
     },
     "metadata": {
      "needs_background": "light"
     },
     "output_type": "display_data"
    }
   ],
   "source": [
    "plt.scatter(inliers_X[labels_kmeans == 0, 0], inliers_X[labels_kmeans == 0, 1], s = 100, c = 'red', label = 'Cluster 1')\n",
    "plt.scatter(inliers_X[labels_kmeans == 1, 0], inliers_X[labels_kmeans == 1, 1], s = 100, c = 'blue', label = 'Cluster 2')\n",
    "\n",
    "plt.scatter(centers[:, 0], centers[:, 1], s = 300, c = 'yellow', label = 'Centroids')\n",
    "plt.title('Clusters of customers')\n",
    "plt.xlabel('Annual Income (k$)')\n",
    "plt.ylabel('Spending Score (1-100)')\n",
    "plt.legend()\n",
    "plt.show()"
   ]
  },
  {
   "cell_type": "markdown",
   "metadata": {},
   "source": [
    "# EM without Anomalies"
   ]
  },
  {
   "cell_type": "code",
   "execution_count": 90,
   "metadata": {},
   "outputs": [],
   "source": [
    "from sklearn.mixture import GaussianMixture\n",
    "# Create a Gaussian Mixture model with 5 components\n",
    "gmm = GaussianMixture(n_components=2, random_state=0)\n",
    "\n",
    "# Fit the model to the time series data\n",
    "gmm.fit(inliers_X)\n",
    "\n",
    "# Get the cluster labels for each time series\n",
    "labels_em = gmm.predict(inliers_X)\n",
    "\n",
    "# Get the means and covariances of the components\n",
    "means = gmm.means_\n",
    "covariances = gmm.covariances_"
   ]
  },
  {
   "cell_type": "code",
   "execution_count": 91,
   "metadata": {},
   "outputs": [
    {
     "data": {
      "text/plain": [
       "0.3578798416255373"
      ]
     },
     "execution_count": 91,
     "metadata": {},
     "output_type": "execute_result"
    }
   ],
   "source": [
    "silhouette_score(inliers_X, labels_em)"
   ]
  },
  {
   "cell_type": "markdown",
   "metadata": {},
   "source": [
    "# Hierarchical Clustering (without Anomalies)"
   ]
  },
  {
   "cell_type": "code",
   "execution_count": 92,
   "metadata": {},
   "outputs": [
    {
     "data": {
      "image/png": "[encoded data removed]",
      "text/plain": [
       "<Figure size 432x288 with 1 Axes>"
      ]
     },
     "metadata": {
      "needs_background": "light"
     },
     "output_type": "display_data"
    }
   ],
   "source": [
    "import scipy.cluster.hierarchy as sch\n",
    "dendrogram = sch.dendrogram(sch.linkage(inliers_X, method = 'ward'))\n",
    "plt.title('Dendrogram')\n",
    "plt.xlabel('Obs')\n",
    "plt.ylabel('Euclidean distances')\n",
    "plt.show()"
   ]
  },
  {
   "cell_type": "code",
   "execution_count": 93,
   "metadata": {},
   "outputs": [],
   "source": [
    "from sklearn.cluster import AgglomerativeClustering\n",
    "hc = AgglomerativeClustering(n_clusters = 2, affinity = 'euclidean', linkage = 'ward')\n",
    "labels_hc = hc.fit_predict(inliers_X)"
   ]
  },
  {
   "cell_type": "code",
   "execution_count": 94,
   "metadata": {},
   "outputs": [
    {
     "data": {
      "text/plain": [
       "0.3784295215500279"
      ]
     },
     "execution_count": 94,
     "metadata": {},
     "output_type": "execute_result"
    }
   ],
   "source": [
    "silhouette_score(inliers_X, labels_hc)"
   ]
  },
  {
   "cell_type": "markdown",
   "metadata": {},
   "source": [
    "# DBSCAN (without Anomalies)"
   ]
  },
  {
   "cell_type": "code",
   "execution_count": 114,
   "metadata": {},
   "outputs": [
    {
     "name": "stdout",
     "output_type": "stream",
     "text": [
      "The number of clusters is: 4\n"
     ]
    }
   ],
   "source": [
    "from sklearn.cluster import DBSCAN\n",
    "# eps is epsilon the starting point, and min_samples is the minimum points that must\n",
    "# exist for cluster to be formed\n",
    "dbscan = DBSCAN(eps=0.000001, min_samples=2).fit(inliers_X)\n",
    "labels = dbscan.labels_\n",
    "\n",
    "# Print the data and the number of clusters\n",
    "print(f'The number of clusters is: {len(set(labels))}')"
   ]
  },
  {
   "cell_type": "code",
   "execution_count": 115,
   "metadata": {},
   "outputs": [
    {
     "data": {
      "text/plain": [
       "-0.1415728841384331"
      ]
     },
     "execution_count": 115,
     "metadata": {},
     "output_type": "execute_result"
    }
   ],
   "source": [
    "silhouette_score(inliers_X, labels)"
   ]
  },
  {
   "cell_type": "code",
   "execution_count": 116,
   "metadata": {},
   "outputs": [
    {
     "data": {
      "image/png": "[encoded data removed]",
      "text/plain": [
       "<Figure size 432x288 with 1 Axes>"
      ]
     },
     "metadata": {
      "needs_background": "light"
     },
     "output_type": "display_data"
    }
   ],
   "source": [
    "unique_labels = set(labels)\n",
    "colors = [plt.cm.Spectral(each) for each in np.linspace(0, 1, len(unique_labels))]\n",
    "for k, col in zip(unique_labels, colors):\n",
    "    if k == -1:\n",
    "        col = [0, 0, 0, 1] # noise points in black\n",
    "    class_member_mask = (labels == k)\n",
    "    xy = inliers_X[class_member_mask]\n",
    "    plt.plot(xy[:, 0], xy[:, 1], 'o', markerfacecolor=tuple(col), markeredgecolor='k', markersize=14)\n",
    "    plt.title('Number of clusters: {}'.format(2))\n",
    "\n",
    "plt.show()"
   ]
  },
  {
   "cell_type": "markdown",
   "metadata": {},
   "source": [
    "# After PCA"
   ]
  },
  {
   "cell_type": "code",
   "execution_count": 118,
   "metadata": {},
   "outputs": [
    {
     "data": {
      "text/plain": [
       "((2000, 2), (2000,))"
      ]
     },
     "execution_count": 118,
     "metadata": {},
     "output_type": "execute_result"
    },
    {
     "data": {
      "image/png": "[encoded data removed]",
      "text/plain": [
       "<Figure size 432x288 with 1 Axes>"
      ]
     },
     "metadata": {
      "needs_background": "light"
     },
     "output_type": "display_data"
    }
   ],
   "source": [
    "X = features.loc[small & (genre1 | genre2), 'mfcc']\n",
    "X = skl.decomposition.PCA(n_components=2).fit_transform(X.values)\n",
    "\n",
    "y = tracks.loc[small & (genre1 | genre2), ('track', 'genre_top')]\n",
    "y = skl.preprocessing.LabelEncoder().fit_transform(y)\n",
    "\n",
    "plt.scatter(X[:,0], X[:,1], c=y, cmap='RdBu', alpha=0.5)\n",
    "X.shape, y.shape"
   ]
  },
  {
   "cell_type": "code",
   "execution_count": 119,
   "metadata": {
    "id": "8AByW65aqSS9"
   },
   "outputs": [
    {
     "data": {
      "text/plain": [
       "{0, 1}"
      ]
     },
     "execution_count": 119,
     "metadata": {},
     "output_type": "execute_result"
    }
   ],
   "source": [
    "import numpy as np\n",
    "import matplotlib.pyplot as plt\n",
    "from sklearn.cluster import KMeans\n",
    "import math\n",
    "set(y)"
   ]
  },
  {
   "cell_type": "code",
   "execution_count": 120,
   "metadata": {
    "colab": {
     "base_uri": "https://localhost:8080/"
    },
    "id": "fEGOSp58u8a9",
    "outputId": "ecd6b256-cbff-4c22-9aca-3fd3aa331dd9"
   },
   "outputs": [
    {
     "data": {
      "text/plain": [
       "2"
      ]
     },
     "execution_count": 120,
     "metadata": {},
     "output_type": "execute_result"
    }
   ],
   "source": [
    "cluster_count = len(set(y))\n",
    "cluster_count"
   ]
  },
  {
   "cell_type": "markdown",
   "metadata": {},
   "source": [
    "# Kmeans with PCA"
   ]
  },
  {
   "cell_type": "code",
   "execution_count": 121,
   "metadata": {
    "colab": {
     "base_uri": "https://localhost:8080/"
    },
    "id": "v9MD4ezAuKqp",
    "outputId": "6022a20e-c154-42db-ed41-7ffb74bbd862"
   },
   "outputs": [],
   "source": [
    "# Apply the KMeans algorithm to the  data\n",
    "km = KMeans(n_clusters = cluster_count, random_state = 0)\n",
    "labels_kmeans = km.fit_predict(X)"
   ]
  },
  {
   "cell_type": "code",
   "execution_count": 122,
   "metadata": {
    "colab": {
     "base_uri": "https://localhost:8080/"
    },
    "id": "-KiCFjhSs9R1",
    "outputId": "ad8309d7-cac4-4e38-da33-35cec3cd296c"
   },
   "outputs": [
    {
     "data": {
      "text/plain": [
       "0.5212246503350347"
      ]
     },
     "execution_count": 122,
     "metadata": {},
     "output_type": "execute_result"
    }
   ],
   "source": [
    "silhouette_score(X, labels_kmeans)"
   ]
  },
  {
   "cell_type": "code",
   "execution_count": 123,
   "metadata": {},
   "outputs": [],
   "source": [
    "# Get the cluster labels and centers\n",
    "labels = km.labels_\n",
    "centers = km.cluster_centers_"
   ]
  },
  {
   "cell_type": "code",
   "execution_count": 124,
   "metadata": {},
   "outputs": [
    {
     "data": {
      "image/png": "[encoded data removed]",
      "text/plain": [
       "<Figure size 432x288 with 1 Axes>"
      ]
     },
     "metadata": {
      "needs_background": "light"
     },
     "output_type": "display_data"
    }
   ],
   "source": [
    "plt.scatter(X[labels_kmeans == 0, 0], X[labels_kmeans == 0, 1], s = 100, c = 'red', label = 'Cluster 1')\n",
    "plt.scatter(X[labels_kmeans == 1, 0], X[labels_kmeans == 1, 1], s = 100, c = 'blue', label = 'Cluster 2')\n",
    "\n",
    "plt.scatter(centers[:, 0], centers[:, 1], s = 300, c = 'yellow', label = 'Centroids')\n",
    "plt.title('Clusters of customers')\n",
    "plt.xlabel('Annual Income (k$)')\n",
    "plt.ylabel('Spending Score (1-100)')\n",
    "plt.legend()\n",
    "plt.show()"
   ]
  },
  {
   "cell_type": "markdown",
   "metadata": {
    "id": "4uEznpSluMSM"
   },
   "source": [
    "# EM with PCA\n"
   ]
  },
  {
   "cell_type": "code",
   "execution_count": 125,
   "metadata": {
    "id": "qlJ3K9J58XuJ"
   },
   "outputs": [],
   "source": [
    "from sklearn.mixture import GaussianMixture\n",
    "# Create a Gaussian Mixture model with 5 components\n",
    "gmm = GaussianMixture(n_components=cluster_count, random_state=0)\n",
    "\n",
    "# Fit the model to the time series data\n",
    "gmm.fit(X)\n",
    "\n",
    "# Get the cluster labels for each time series\n",
    "labels_em = gmm.predict(X)\n",
    "\n",
    "# Get the means and covariances of the components\n",
    "means = gmm.means_\n",
    "covariances = gmm.covariances_"
   ]
  },
  {
   "cell_type": "code",
   "execution_count": 126,
   "metadata": {
    "colab": {
     "base_uri": "https://localhost:8080/"
    },
    "id": "juohjJ99vcYG",
    "outputId": "39e1503b-d1cc-4b77-cd4b-6604d8ec47c4"
   },
   "outputs": [
    {
     "data": {
      "text/plain": [
       "0.4787581521380454"
      ]
     },
     "execution_count": 126,
     "metadata": {},
     "output_type": "execute_result"
    }
   ],
   "source": [
    "silhouette_score(X, labels_em)"
   ]
  },
  {
   "cell_type": "markdown",
   "metadata": {
    "id": "vuFIx50uwByn"
   },
   "source": [
    "# EM with alternating maximization (after PCA)"
   ]
  },
  {
   "cell_type": "code",
   "execution_count": 127,
   "metadata": {
    "colab": {
     "base_uri": "https://localhost:8080/"
    },
    "id": "Epk7NmgJQGks",
    "outputId": "b85d6feb-58c7-4562-d58b-81c3dc91a88e"
   },
   "outputs": [],
   "source": [
    "# Initialize cluster centers randomly\n",
    "centers = np.random.randn(cluster_count, X.shape[1])\n",
    "\n",
    "# Run the Expectation-Maximization algorithm with alternating maximization\n",
    "for i in range(10):\n",
    "    # Expectation step\n",
    "    dist = np.linalg.norm(X[:, np.newaxis, :] - centers, axis=2)\n",
    "    membership = np.argmin(dist, axis=1)\n",
    "    \n",
    "    # Maximization step\n",
    "    for j in range(cluster_count):\n",
    "        centers[j] = np.mean(X[membership == j], axis=0)\n",
    "\n",
    "# Use KMeans to verify results\n",
    "gmm_am = GaussianMixture(n_components=cluster_count, random_state=0)\n",
    "gmm_am.fit(X)\n",
    "labels_am = gmm.predict(X)"
   ]
  },
  {
   "cell_type": "code",
   "execution_count": 128,
   "metadata": {
    "colab": {
     "base_uri": "https://localhost:8080/"
    },
    "id": "A0qwOg0HROsS",
    "outputId": "d79b4917-79ee-4adb-b02f-0b5520dd01f7"
   },
   "outputs": [
    {
     "data": {
      "text/plain": [
       "0.4787581521380454"
      ]
     },
     "execution_count": 128,
     "metadata": {},
     "output_type": "execute_result"
    }
   ],
   "source": [
    "# without alt max to verify results\n",
    "silhouette_score(X, labels_am)"
   ]
  },
  {
   "cell_type": "markdown",
   "metadata": {},
   "source": [
    "# silhouette score for the EM model with the Alternate Maximazation"
   ]
  },
  {
   "cell_type": "code",
   "execution_count": 129,
   "metadata": {
    "id": "P7XJOSEnRVjd"
   },
   "outputs": [
    {
     "data": {
      "text/plain": [
       "0.5210885065642795"
      ]
     },
     "execution_count": 129,
     "metadata": {},
     "output_type": "execute_result"
    }
   ],
   "source": [
    "silhouette_score(X, membership)"
   ]
  },
  {
   "cell_type": "markdown",
   "metadata": {
    "id": "109_FJXceexD"
   },
   "source": [
    "# Hierarchical Clustering with PCA"
   ]
  },
  {
   "cell_type": "code",
   "execution_count": 130,
   "metadata": {
    "colab": {
     "base_uri": "https://localhost:8080/",
     "height": 301
    },
    "id": "o3GdPq7JdZFa",
    "outputId": "984fe0b5-5eb2-43d1-f505-2381e2725e40"
   },
   "outputs": [
    {
     "data": {
      "image/png": "[encoded data removed]",
      "text/plain": [
       "<Figure size 432x288 with 1 Axes>"
      ]
     },
     "metadata": {
      "needs_background": "light"
     },
     "output_type": "display_data"
    }
   ],
   "source": [
    "import scipy.cluster.hierarchy as sch\n",
    "dendrogram = sch.dendrogram(sch.linkage(X, method = 'ward'))\n",
    "plt.title('Dendrogram')\n",
    "plt.xlabel('Customers')\n",
    "plt.ylabel('Euclidean distances')\n",
    "plt.show()"
   ]
  },
  {
   "cell_type": "code",
   "execution_count": 131,
   "metadata": {
    "id": "_D4MtUdkdsnS"
   },
   "outputs": [],
   "source": [
    "from sklearn.cluster import AgglomerativeClustering\n",
    "hc = AgglomerativeClustering(n_clusters = cluster_count, affinity = 'euclidean', linkage = 'ward')\n",
    "labels_hc = hc.fit_predict(X)"
   ]
  },
  {
   "cell_type": "code",
   "execution_count": 132,
   "metadata": {
    "colab": {
     "base_uri": "https://localhost:8080/"
    },
    "id": "WwfPGMEfe9mD",
    "outputId": "9d313874-80fd-4089-d7a2-ca6cb74598c9"
   },
   "outputs": [
    {
     "data": {
      "text/plain": [
       "0.5062027276875516"
      ]
     },
     "execution_count": 132,
     "metadata": {},
     "output_type": "execute_result"
    }
   ],
   "source": [
    "silhouette_score(X, labels_hc)"
   ]
  },
  {
   "cell_type": "markdown",
   "metadata": {
    "id": "q5U0dDT2fPFd"
   },
   "source": [
    "# DBSCAN with PCA"
   ]
  },
  {
   "cell_type": "code",
   "execution_count": 144,
   "metadata": {
    "colab": {
     "base_uri": "https://localhost:8080/"
    },
    "id": "bvqxHfeFfQ9c",
    "outputId": "06e08ccb-cbc4-47f7-f034-f856467b8cae"
   },
   "outputs": [
    {
     "name": "stdout",
     "output_type": "stream",
     "text": [
      "The number of clusters is: 7\n"
     ]
    }
   ],
   "source": [
    "from sklearn.cluster import DBSCAN\n",
    "# eps is epsilon the starting point, and min_samples is the minimum points that must\n",
    "# exist for cluster to be formed\n",
    "dbscan = DBSCAN(eps=0.01, min_samples=2).fit(X)\n",
    "labels_db = dbscan.labels_\n",
    "\n",
    "# Print the data and the number of clusters\n",
    "print(f'The number of clusters is: {len(set(labels_db))}')"
   ]
  },
  {
   "cell_type": "code",
   "execution_count": 140,
   "metadata": {
    "colab": {
     "base_uri": "https://localhost:8080/"
    },
    "id": "GwUHp5yGgNIm",
    "outputId": "7d87a000-d01b-49d3-9d08-92858cc8b836"
   },
   "outputs": [
    {
     "data": {
      "text/plain": [
       "-0.34645923765090697"
      ]
     },
     "execution_count": 140,
     "metadata": {},
     "output_type": "execute_result"
    }
   ],
   "source": [
    "silhouette_score(X, labels_db)"
   ]
  },
  {
   "cell_type": "code",
   "execution_count": 141,
   "metadata": {},
   "outputs": [
    {
     "data": {
      "image/png": "[encoded data removed]",
      "text/plain": [
       "<Figure size 432x288 with 1 Axes>"
      ]
     },
     "metadata": {
      "needs_background": "light"
     },
     "output_type": "display_data"
    }
   ],
   "source": [
    "unique_labels = set(labels)\n",
    "colors = [plt.cm.Spectral(each) for each in np.linspace(0, 1, len(unique_labels))]\n",
    "for k, col in zip(unique_labels, colors):\n",
    "    if k == -1:\n",
    "        col = [0, 0, 0, 1] # noise points in black\n",
    "    class_member_mask = (labels == k)\n",
    "    xy = X[class_member_mask]\n",
    "    plt.plot(xy[:, 0], xy[:, 1], 'o', markerfacecolor=tuple(col), markeredgecolor='k', markersize=14)\n",
    "    plt.title('Number of clusters: {}'.format(2))\n",
    "\n",
    "plt.show()"
   ]
  }
 ],
 "metadata": {
  "accelerator": "GPU",
  "colab": {
   "machine_shape": "hm",
   "provenance": []
  },
  "gpuClass": "premium",
  "kernelspec": {
   "display_name": "Python 3 (ipykernel)",
   "language": "python",
   "name": "python3"
  },
  "language_info": {
   "codemirror_mode": {
    "name": "ipython",
    "version": 3
   },
   "file_extension": ".py",
   "mimetype": "text/x-python",
   "name": "python",
   "nbconvert_exporter": "python",
   "pygments_lexer": "ipython3",
   "version": "3.10.9"
  }
 },
 "nbformat": 4,
 "nbformat_minor": 1
}
