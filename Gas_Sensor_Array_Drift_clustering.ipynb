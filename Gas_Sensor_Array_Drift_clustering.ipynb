{
 "cells": [
  {
   "cell_type": "markdown",
   "metadata": {
    "id": "Qrj3-uQ0lDh5"
   },
   "source": [
    "# Gas Sensor Array Drift Dataset"
   ]
  },
  {
   "cell_type": "markdown",
   "metadata": {
    "id": "qChdIjgretH1"
   },
   "source": [
    "# Data Preprocessing"
   ]
  },
  {
   "cell_type": "markdown",
   "metadata": {},
   "source": [
    "### To download the dataset run the two next cells"
   ]
  },
  {
   "cell_type": "code",
   "execution_count": null,
   "metadata": {},
   "outputs": [],
   "source": [
    "%%capture\n",
    "!pip install -U --no-cache-dir gdown --pre\n",
    "!gdown --id 15SomUwl-FphoMRnAB5uWpUEB92RSsmWg"
   ]
  },
  {
   "cell_type": "code",
   "execution_count": null,
   "metadata": {},
   "outputs": [],
   "source": [
    "!unzip driftdataset.zip"
   ]
  },
  {
   "cell_type": "markdown",
   "metadata": {},
   "source": [
    "### If you already have the data set, define the path to the folder under the ״folder״ variable"
   ]
  },
  {
   "cell_type": "code",
   "execution_count": null,
   "metadata": {},
   "outputs": [],
   "source": [
    "folder = r'driftdataset'"
   ]
  },
  {
   "cell_type": "code",
   "execution_count": null,
   "metadata": {
    "id": "Wsu8r7EjsgTF"
   },
   "outputs": [],
   "source": [
    "%%capture\n",
    "import pandas as pd\n",
    "import re\n",
    "import numpy as np\n",
    "from sklearn.preprocessing import StandardScaler\n",
    "from sklearn.metrics import silhouette_score\n",
    "import os\n",
    "import sklearn as skl\n",
    "import numpy as np\n",
    "import matplotlib.pyplot as plt\n",
    "from tslearn.clustering import TimeSeriesKMeans\n",
    "import math\n",
    "from sklearn.model_selection import train_test_split\n",
    "from sklearn.cluster import KMeans\n",
    "from sklearn.ensemble import IsolationForest"
   ]
  },
  {
   "cell_type": "code",
   "execution_count": null,
   "metadata": {
    "id": "iQW5e2J7kEad"
   },
   "outputs": [],
   "source": [
    "def get_list_of_files(folder):\n",
    "    \"\"\"Returns a list with the files contained in that folder\"\"\"\n",
    "    ls_files = os.listdir(folder)\n",
    "    path_files = [os.path.join(folder, f) for f in ls_files]\n",
    "    return path_files\n",
    "\n",
    "def get_list_of_files_with_extension(folder, ext):\n",
    "    \"\"\"Returns a list with the files with the specified extension {ext} contained in that folder.\"\"\"\n",
    "    path_files = get_list_of_files(folder)\n",
    "    ls_ext = [f for f in path_files if f.endswith(ext)]\n",
    "    return ls_ext\n",
    "\n",
    "class LoadDatFile:\n",
    "    \"\"\"\n",
    "    This class aims to load a .dat files from UCI\n",
    "    https://archive.ics.uci.edu/ml//datasets/Gas+Sensor+Array+Drift+Dataset\n",
    "    , and returns a pandas.dataframe object\n",
    "    :arg .dat file\n",
    "    :return df\n",
    "    \"\"\"\n",
    "\n",
    "    def __init__(self, file):\n",
    "        self.file = file\n",
    "\n",
    "    @property\n",
    "    def batch_number(self):\n",
    "        base = os.path.basename(self.file)\n",
    "        name, ext = os.path.splitext(base)\n",
    "        num = re.findall(r'\\d+', name)[0]\n",
    "        # num = num.zfill(2)\n",
    "        return int(num)\n",
    "\n",
    "    @property\n",
    "    def df(self):\n",
    "        df = pd.read_table(self.file, engine='python', sep='\\s+\\d+:', header=None)\n",
    "        df['Batch ID'] = self.batch_number\n",
    "        return df\n",
    "\n",
    "\n",
    "class GasDataFrame:\n",
    "    \"\"\" Process the .dat file to get all the information contained:\n",
    "    - Gas, concentration and measures.\"\"\"\n",
    "\n",
    "    def __init__(self, file):\n",
    "        self.file = file\n",
    "\n",
    "    @property\n",
    "    def df(self):\n",
    "        df_raw = LoadDatFile(self.file).df\n",
    "        return self._add_gas_info(df_raw)\n",
    "\n",
    "    @staticmethod\n",
    "    def _add_gas_info(df):\n",
    "        df[['GAS', 'CONCENTRATION']] = df.iloc[:, 0].str.split(\";\", expand=True, )\n",
    "        df.drop(df.columns[0], axis=1, inplace=True)\n",
    "        df['GAS'] = df['GAS'].astype('int')\n",
    "        df['CONCENTRATION'] = df['CONCENTRATION'].astype('float')\n",
    "        return df\n",
    "\n",
    "\n",
    "class LoadDatFolder:\n",
    "    \"\"\"\n",
    "    This class aims to load all .dat files contained in a folder,\n",
    "    gives each file a GasDataframe format and concats all in a pandas.dataframe object with\n",
    "    :inputs: folder with many .dat files\n",
    "    :return df\n",
    "    \"\"\"\n",
    "    def __init__(self, folder):\n",
    "        self.folder = folder\n",
    "\n",
    "    @property\n",
    "    def df(self):\n",
    "        files = get_list_of_files_with_extension(self.folder, 'dat')\n",
    "        df_full = pd.DataFrame()\n",
    "        for f in files:\n",
    "            dftemp = GasDataFrame(f).df\n",
    "            df_full = df_full.append(dftemp)\n",
    "        return df_full\n",
    "\n",
    "\n",
    "def load_data():\n",
    "    folder = r'driftdataset'\n",
    "    df_gas = LoadDatFolder(folder).df\n",
    "\n",
    "    #Rename sensor columns\n",
    "    col_names_dict = {}\n",
    "    i = 1\n",
    "    for sensor in range(0, 15 + 1):\n",
    "        for feature in range(0, 7 + 1):\n",
    "            col_names_dict[i] = f'S{sensor}_{feature}'\n",
    "            i = i + 1\n",
    "\n",
    "    df_gas = df_gas.rename(columns=col_names_dict)\n",
    "    return df_gas\n",
    "\n",
    "\n",
    "def load_data_scaled():\n",
    "    # Load data\n",
    "    df = load_data()\n",
    "\n",
    "    # init scaler\n",
    "    sc = StandardScaler()\n",
    "\n",
    "    # Scale only sensor data\n",
    "    sensor_features = df.iloc[:, :128]\n",
    "    sc.fit(sensor_features)\n",
    "    data_sc = sc.transform(sensor_features)\n",
    "\n",
    "    # Get the unscaled info\n",
    "    info = df[['Batch ID', 'GAS', 'CONCENTRATION']].values\n",
    "\n",
    "    # Merge scaled data and the info into a pandas dataframe.\n",
    "    data = np.concatenate([data_sc, info], axis=1)\n",
    "    df_sca_gas = pd.DataFrame(data, columns=df.columns)\n",
    "    for col in ['GAS', 'Batch ID']:\n",
    "        df_sca_gas[col] = df_sca_gas[col].astype('int').astype('category')\n",
    "    return df_sca_gas\n",
    "\n",
    "def calculate_bins_concentration(df):\n",
    "    # Create ConcentrationCat column.\n",
    "    df['ConcentrationCat'] = pd.cut(df['CONCENTRATION'], bins=range(0, 1000, 100))\n",
    "    return df"
   ]
  },
  {
   "cell_type": "code",
   "execution_count": null,
   "metadata": {
    "id": "NlTrdPQBkN4y"
   },
   "outputs": [],
   "source": [
    "%%capture\n",
    "ldf = LoadDatFolder(folder)\n",
    "my_dataframe_full = ldf.df\n",
    "\n",
    "my_df_scaled = load_data_scaled()"
   ]
  },
  {
   "cell_type": "code",
   "execution_count": 4,
   "metadata": {
    "colab": {
     "base_uri": "https://localhost:8080/",
     "height": 317
    },
    "id": "TAX74hBCnGi5",
    "outputId": "a26aa708-6ee1-4bbc-8f13-ba03c30c197b"
   },
   "outputs": [
    {
     "data": {
      "text/html": [
       "<div>\n",
       "<style scoped>\n",
       "    .dataframe tbody tr th:only-of-type {\n",
       "        vertical-align: middle;\n",
       "    }\n",
       "\n",
       "    .dataframe tbody tr th {\n",
       "        vertical-align: top;\n",
       "    }\n",
       "\n",
       "    .dataframe thead th {\n",
       "        text-align: right;\n",
       "    }\n",
       "</style>\n",
       "<table border=\"1\" class=\"dataframe\">\n",
       "  <thead>\n",
       "    <tr style=\"text-align: right;\">\n",
       "      <th></th>\n",
       "      <th>S0_0</th>\n",
       "      <th>S0_1</th>\n",
       "      <th>S0_2</th>\n",
       "      <th>S0_3</th>\n",
       "      <th>S0_4</th>\n",
       "      <th>S0_5</th>\n",
       "      <th>S0_6</th>\n",
       "      <th>S0_7</th>\n",
       "      <th>S1_0</th>\n",
       "      <th>S1_1</th>\n",
       "      <th>...</th>\n",
       "      <th>S15_1</th>\n",
       "      <th>S15_2</th>\n",
       "      <th>S15_3</th>\n",
       "      <th>S15_4</th>\n",
       "      <th>S15_5</th>\n",
       "      <th>S15_6</th>\n",
       "      <th>S15_7</th>\n",
       "      <th>Batch ID</th>\n",
       "      <th>GAS</th>\n",
       "      <th>CONCENTRATION</th>\n",
       "    </tr>\n",
       "  </thead>\n",
       "  <tbody>\n",
       "    <tr>\n",
       "      <th>0</th>\n",
       "      <td>-0.719384</td>\n",
       "      <td>-0.410835</td>\n",
       "      <td>-0.729778</td>\n",
       "      <td>-0.737766</td>\n",
       "      <td>-0.631897</td>\n",
       "      <td>0.710165</td>\n",
       "      <td>0.658904</td>\n",
       "      <td>0.435660</td>\n",
       "      <td>-0.306677</td>\n",
       "      <td>-0.207739</td>\n",
       "      <td>...</td>\n",
       "      <td>-0.470412</td>\n",
       "      <td>-0.647487</td>\n",
       "      <td>-0.691855</td>\n",
       "      <td>-0.733789</td>\n",
       "      <td>0.474596</td>\n",
       "      <td>0.469108</td>\n",
       "      <td>0.344781</td>\n",
       "      <td>8</td>\n",
       "      <td>4</td>\n",
       "      <td>100.0</td>\n",
       "    </tr>\n",
       "    <tr>\n",
       "      <th>1</th>\n",
       "      <td>-0.707427</td>\n",
       "      <td>-0.360377</td>\n",
       "      <td>-0.722288</td>\n",
       "      <td>-0.734490</td>\n",
       "      <td>-0.634355</td>\n",
       "      <td>0.710053</td>\n",
       "      <td>0.658859</td>\n",
       "      <td>0.435665</td>\n",
       "      <td>-0.221189</td>\n",
       "      <td>-0.114928</td>\n",
       "      <td>...</td>\n",
       "      <td>-0.682438</td>\n",
       "      <td>-1.018030</td>\n",
       "      <td>-0.937225</td>\n",
       "      <td>-0.955470</td>\n",
       "      <td>0.838900</td>\n",
       "      <td>0.790296</td>\n",
       "      <td>0.495879</td>\n",
       "      <td>8</td>\n",
       "      <td>5</td>\n",
       "      <td>25.0</td>\n",
       "    </tr>\n",
       "    <tr>\n",
       "      <th>2</th>\n",
       "      <td>-0.717663</td>\n",
       "      <td>-0.403575</td>\n",
       "      <td>-0.728641</td>\n",
       "      <td>-0.738657</td>\n",
       "      <td>-0.640715</td>\n",
       "      <td>0.710786</td>\n",
       "      <td>0.660087</td>\n",
       "      <td>0.435797</td>\n",
       "      <td>-0.310632</td>\n",
       "      <td>-0.208073</td>\n",
       "      <td>...</td>\n",
       "      <td>-0.461756</td>\n",
       "      <td>-0.594531</td>\n",
       "      <td>-0.648661</td>\n",
       "      <td>-0.676953</td>\n",
       "      <td>0.455808</td>\n",
       "      <td>0.464431</td>\n",
       "      <td>0.332307</td>\n",
       "      <td>8</td>\n",
       "      <td>4</td>\n",
       "      <td>100.0</td>\n",
       "    </tr>\n",
       "    <tr>\n",
       "      <th>3</th>\n",
       "      <td>-0.707996</td>\n",
       "      <td>-0.355507</td>\n",
       "      <td>-0.722231</td>\n",
       "      <td>-0.734410</td>\n",
       "      <td>-0.643444</td>\n",
       "      <td>0.710600</td>\n",
       "      <td>0.659227</td>\n",
       "      <td>0.435487</td>\n",
       "      <td>-0.216970</td>\n",
       "      <td>-0.113396</td>\n",
       "      <td>...</td>\n",
       "      <td>-0.667512</td>\n",
       "      <td>-1.016171</td>\n",
       "      <td>-0.936062</td>\n",
       "      <td>-0.938893</td>\n",
       "      <td>0.838035</td>\n",
       "      <td>0.787387</td>\n",
       "      <td>0.483740</td>\n",
       "      <td>8</td>\n",
       "      <td>5</td>\n",
       "      <td>25.0</td>\n",
       "    </tr>\n",
       "    <tr>\n",
       "      <th>4</th>\n",
       "      <td>-0.719946</td>\n",
       "      <td>-0.410658</td>\n",
       "      <td>-0.730276</td>\n",
       "      <td>-0.740243</td>\n",
       "      <td>-0.630824</td>\n",
       "      <td>0.712442</td>\n",
       "      <td>0.660650</td>\n",
       "      <td>0.437885</td>\n",
       "      <td>-0.320666</td>\n",
       "      <td>-0.211425</td>\n",
       "      <td>...</td>\n",
       "      <td>-0.460219</td>\n",
       "      <td>-0.589473</td>\n",
       "      <td>-0.632788</td>\n",
       "      <td>-0.633494</td>\n",
       "      <td>0.463180</td>\n",
       "      <td>0.452910</td>\n",
       "      <td>0.303213</td>\n",
       "      <td>8</td>\n",
       "      <td>4</td>\n",
       "      <td>100.0</td>\n",
       "    </tr>\n",
       "  </tbody>\n",
       "</table>\n",
       "<p>5 rows × 131 columns</p>\n",
       "</div>"
      ],
      "text/plain": [
       "       S0_0      S0_1      S0_2      S0_3      S0_4      S0_5      S0_6  \\\n",
       "0 -0.719384 -0.410835 -0.729778 -0.737766 -0.631897  0.710165  0.658904   \n",
       "1 -0.707427 -0.360377 -0.722288 -0.734490 -0.634355  0.710053  0.658859   \n",
       "2 -0.717663 -0.403575 -0.728641 -0.738657 -0.640715  0.710786  0.660087   \n",
       "3 -0.707996 -0.355507 -0.722231 -0.734410 -0.643444  0.710600  0.659227   \n",
       "4 -0.719946 -0.410658 -0.730276 -0.740243 -0.630824  0.712442  0.660650   \n",
       "\n",
       "       S0_7      S1_0      S1_1  ...     S15_1     S15_2     S15_3     S15_4  \\\n",
       "0  0.435660 -0.306677 -0.207739  ... -0.470412 -0.647487 -0.691855 -0.733789   \n",
       "1  0.435665 -0.221189 -0.114928  ... -0.682438 -1.018030 -0.937225 -0.955470   \n",
       "2  0.435797 -0.310632 -0.208073  ... -0.461756 -0.594531 -0.648661 -0.676953   \n",
       "3  0.435487 -0.216970 -0.113396  ... -0.667512 -1.016171 -0.936062 -0.938893   \n",
       "4  0.437885 -0.320666 -0.211425  ... -0.460219 -0.589473 -0.632788 -0.633494   \n",
       "\n",
       "      S15_5     S15_6     S15_7  Batch ID  GAS  CONCENTRATION  \n",
       "0  0.474596  0.469108  0.344781         8    4          100.0  \n",
       "1  0.838900  0.790296  0.495879         8    5           25.0  \n",
       "2  0.455808  0.464431  0.332307         8    4          100.0  \n",
       "3  0.838035  0.787387  0.483740         8    5           25.0  \n",
       "4  0.463180  0.452910  0.303213         8    4          100.0  \n",
       "\n",
       "[5 rows x 131 columns]"
      ]
     },
     "execution_count": 4,
     "metadata": {},
     "output_type": "execute_result"
    }
   ],
   "source": [
    "my_df_scaled.head()"
   ]
  },
  {
   "cell_type": "code",
   "execution_count": 5,
   "metadata": {
    "colab": {
     "base_uri": "https://localhost:8080/"
    },
    "id": "aUZCQbL7uVm7",
    "outputId": "02d44139-9111-4c01-fd29-db417ec8fba4"
   },
   "outputs": [
    {
     "data": {
      "text/plain": [
       "(13910, 131)"
      ]
     },
     "execution_count": 5,
     "metadata": {},
     "output_type": "execute_result"
    }
   ],
   "source": [
    "my_df_scaled.values.shape"
   ]
  },
  {
   "cell_type": "markdown",
   "metadata": {
    "id": "YnDc84GwXPJ0"
   },
   "source": [
    "## TimeSeriesKMeans "
   ]
  },
  {
   "cell_type": "code",
   "execution_count": 6,
   "metadata": {
    "id": "8AByW65aqSS9"
   },
   "outputs": [],
   "source": [
    "X = my_df_scaled.iloc[:, :-3].values\n",
    "y = my_df_scaled.iloc[:, -1].values"
   ]
  },
  {
   "cell_type": "code",
   "execution_count": 7,
   "metadata": {
    "colab": {
     "base_uri": "https://localhost:8080/"
    },
    "id": "fEGOSp58u8a9",
    "outputId": "e4282f2b-8dc9-4ce9-dbfb-ce3c6aa1860b"
   },
   "outputs": [
    {
     "data": {
      "text/plain": [
       "59"
      ]
     },
     "execution_count": 7,
     "metadata": {},
     "output_type": "execute_result"
    }
   ],
   "source": [
    "cluster_count_CONCENTRATION = len(set(y))\n",
    "cluster_count_CONCENTRATION"
   ]
  },
  {
   "cell_type": "markdown",
   "metadata": {
    "id": "8hglRT34YcnY"
   },
   "source": [
    "### By 59 clusters (CONCENTRATION)"
   ]
  },
  {
   "cell_type": "code",
   "execution_count": 8,
   "metadata": {
    "colab": {
     "base_uri": "https://localhost:8080/"
    },
    "id": "v9MD4ezAuKqp",
    "outputId": "11e2c5de-a4ea-413c-bc77-931324555583"
   },
   "outputs": [
    {
     "name": "stdout",
     "output_type": "stream",
     "text": [
      "14.035 --> 10.577 --> 10.273 --> 10.118 --> 10.074 --> \n"
     ]
    }
   ],
   "source": [
    "# Apply the TimeSeriesKMeans algorithm to the time series data\n",
    "km = TimeSeriesKMeans(n_clusters=cluster_count_CONCENTRATION, metric=\"euclidean\", max_iter=5, verbose=True, random_state=0)\n",
    "labels_kmeans = km.fit_predict(X)\n",
    "\n",
    "# Plot the data and the clusters\n",
    "plot_count = math.ceil(math.sqrt(cluster_count_CONCENTRATION))"
   ]
  },
  {
   "cell_type": "code",
   "execution_count": 9,
   "metadata": {
    "colab": {
     "base_uri": "https://localhost:8080/"
    },
    "id": "RceiFiaTZPJv",
    "outputId": "ea52ce15-16cc-4ae0-c981-1ef655341a8c"
   },
   "outputs": [
    {
     "data": {
      "text/plain": [
       "8"
      ]
     },
     "execution_count": 9,
     "metadata": {},
     "output_type": "execute_result"
    }
   ],
   "source": [
    "plot_count"
   ]
  },
  {
   "cell_type": "code",
   "execution_count": 10,
   "metadata": {
    "colab": {
     "base_uri": "https://localhost:8080/"
    },
    "id": "Si8e2JkC5nq3",
    "outputId": "4acec6b9-0540-4dfd-aa06-4eb079d03a25"
   },
   "outputs": [
    {
     "data": {
      "text/plain": [
       "(59, 128, 1)"
      ]
     },
     "execution_count": 10,
     "metadata": {},
     "output_type": "execute_result"
    }
   ],
   "source": [
    "km.cluster_centers_.shape"
   ]
  },
  {
   "cell_type": "code",
   "execution_count": 11,
   "metadata": {
    "colab": {
     "base_uri": "https://localhost:8080/"
    },
    "id": "-KiCFjhSs9R1",
    "outputId": "a5a6a5a3-cb74-47dd-be33-d4d409ba410e"
   },
   "outputs": [
    {
     "data": {
      "text/plain": [
       "0.26869350275760984"
      ]
     },
     "execution_count": 11,
     "metadata": {},
     "output_type": "execute_result"
    }
   ],
   "source": [
    "silhouette_score(X, labels_kmeans)"
   ]
  },
  {
   "cell_type": "code",
   "execution_count": 12,
   "metadata": {
    "colab": {
     "base_uri": "https://localhost:8080/",
     "height": 282
    },
    "id": "-ZlOHDhUa8JG",
    "outputId": "a8eaf276-8b13-4ced-de61-6ced2970a376"
   },
   "outputs": [
    {
     "data": {
      "image/png": "[encoded data removed]",
      "text/plain": [
       "<Figure size 432x288 with 9 Axes>"
      ]
     },
     "metadata": {
      "needs_background": "light"
     },
     "output_type": "display_data"
    }
   ],
   "source": [
    "sz = X.shape[1]\n",
    "plt.figure()\n",
    "for yi in range(9):\n",
    "    plt.subplot(3, 3, yi + 1)\n",
    "    for xx in X[labels_kmeans == yi]:\n",
    "        plt.plot(xx.ravel(), \"k-\", alpha=.2)\n",
    "    plt.plot(km.cluster_centers_[yi].ravel(), \"r-\")\n",
    "    plt.xlim(0, sz)\n",
    "    plt.ylim(-4, 4)\n",
    "    if yi == 1:\n",
    "        plt.title(\"Euclidean $k$-means\")"
   ]
  },
  {
   "cell_type": "markdown",
   "metadata": {
    "id": "X2A0JtKNYo4-"
   },
   "source": [
    "### By 6 clusters (GAS)"
   ]
  },
  {
   "cell_type": "code",
   "execution_count": 13,
   "metadata": {
    "colab": {
     "base_uri": "https://localhost:8080/"
    },
    "id": "gzTVhTd3UXra",
    "outputId": "73e5fc4a-82c7-491a-8fc4-19782365edf6"
   },
   "outputs": [
    {
     "data": {
      "text/plain": [
       "6"
      ]
     },
     "execution_count": 13,
     "metadata": {},
     "output_type": "execute_result"
    }
   ],
   "source": [
    "cluster_count_GAS = len(set(my_df_scaled.iloc[:, -2].values))\n",
    "cluster_count_GAS"
   ]
  },
  {
   "cell_type": "code",
   "execution_count": 14,
   "metadata": {
    "colab": {
     "base_uri": "https://localhost:8080/"
    },
    "id": "4VJKuFlmYqWs",
    "outputId": "5a843080-88e3-4fd2-a0a6-aa22d2fcd321"
   },
   "outputs": [
    {
     "name": "stdout",
     "output_type": "stream",
     "text": [
      "77.418 --> 59.167 --> 57.426 --> 55.345 --> 54.397 --> \n"
     ]
    }
   ],
   "source": [
    "# Apply the TimeSeriesKMeans algorithm to the time series data\n",
    "km_2 = TimeSeriesKMeans(n_clusters=cluster_count_GAS, metric=\"euclidean\", max_iter=5, verbose=True, random_state=0)\n",
    "labels_kmeans_2 = km_2.fit_predict(X)\n",
    "\n",
    "# Plot the data and the clusters\n",
    "plot_count_2 = math.ceil(math.sqrt(cluster_count_GAS))"
   ]
  },
  {
   "cell_type": "code",
   "execution_count": 15,
   "metadata": {
    "colab": {
     "base_uri": "https://localhost:8080/"
    },
    "id": "jE5LCoVVZKOV",
    "outputId": "a2936507-5611-431e-f17a-d866ff9cce5d"
   },
   "outputs": [
    {
     "data": {
      "text/plain": [
       "3"
      ]
     },
     "execution_count": 15,
     "metadata": {},
     "output_type": "execute_result"
    }
   ],
   "source": [
    "plot_count_2"
   ]
  },
  {
   "cell_type": "code",
   "execution_count": 16,
   "metadata": {
    "colab": {
     "base_uri": "https://localhost:8080/"
    },
    "id": "OmEqw58Cd884",
    "outputId": "bbfcd539-3575-4794-f399-cb0a6e35f5fd"
   },
   "outputs": [
    {
     "data": {
      "text/plain": [
       "(6, 128, 1)"
      ]
     },
     "execution_count": 16,
     "metadata": {},
     "output_type": "execute_result"
    }
   ],
   "source": [
    "km_2.cluster_centers_.shape"
   ]
  },
  {
   "cell_type": "code",
   "execution_count": 17,
   "metadata": {
    "colab": {
     "base_uri": "https://localhost:8080/"
    },
    "id": "ZYB_-sc8Y7DO",
    "outputId": "36b2fee8-474f-4102-8cec-0c1ff5e73a0c"
   },
   "outputs": [
    {
     "data": {
      "text/plain": [
       "0.3888199994966431"
      ]
     },
     "execution_count": 17,
     "metadata": {},
     "output_type": "execute_result"
    }
   ],
   "source": [
    "silhouette_score(X, labels_kmeans_2)"
   ]
  },
  {
   "cell_type": "code",
   "execution_count": 18,
   "metadata": {
    "colab": {
     "base_uri": "https://localhost:8080/",
     "height": 206
    },
    "id": "CEH7ynUsd4Gx",
    "outputId": "f04929bc-bd51-4c35-937f-5781c2c82e2e"
   },
   "outputs": [
    {
     "data": {
      "image/png": "[encoded data removed]",
      "text/plain": [
       "<Figure size 432x288 with 6 Axes>"
      ]
     },
     "metadata": {
      "needs_background": "light"
     },
     "output_type": "display_data"
    }
   ],
   "source": [
    "sz = X.shape[1]\n",
    "plt.figure()\n",
    "for yi in range(6):\n",
    "    plt.subplot(3, 3, yi + 1)\n",
    "    for xx in X[labels_kmeans_2 == yi]:\n",
    "        plt.plot(xx.ravel(), \"k-\", alpha=.2)\n",
    "    plt.plot(km_2.cluster_centers_[yi].ravel(), \"r-\")\n",
    "    plt.xlim(0, sz)\n",
    "    plt.ylim(-4, 4)\n",
    "    if yi == 1:\n",
    "        plt.title(\"Euclidean $k$-means\")"
   ]
  },
  {
   "cell_type": "markdown",
   "metadata": {
    "id": "4uEznpSluMSM"
   },
   "source": [
    "## EM\n",
    "\n",
    "We then create a GaussianMixture model with 5 components and fit it to the time series data using the fit method. We can then obtain the cluster labels for each time series using the predict method and the means and covariances of the components using the means_ and covariances_ attributes.\n",
    "\n",
    "Note that in this example, we are using randomly generated data, but you can replace this with your own time series data. Additionally, you may need to tune the number of components depending on your specific use case."
   ]
  },
  {
   "cell_type": "markdown",
   "metadata": {
    "id": "VaIbskSLfWAo"
   },
   "source": [
    "### By 59 clusters (CONCENTRATION)"
   ]
  },
  {
   "cell_type": "code",
   "execution_count": 19,
   "metadata": {
    "id": "qlJ3K9J58XuJ"
   },
   "outputs": [],
   "source": [
    "from sklearn.mixture import GaussianMixture\n",
    "# Create a Gaussian Mixture model with 5 components\n",
    "gmm = GaussianMixture(n_components=cluster_count_CONCENTRATION, random_state=0)\n",
    "\n",
    "# Fit the model to the time series data\n",
    "gmm.fit(X)\n",
    "\n",
    "# Get the cluster labels for each time series\n",
    "labels_em = gmm.predict(X)\n",
    "\n",
    "# Get the means and covariances of the components\n",
    "means = gmm.means_\n",
    "covariances = gmm.covariances_"
   ]
  },
  {
   "cell_type": "code",
   "execution_count": 20,
   "metadata": {
    "colab": {
     "base_uri": "https://localhost:8080/"
    },
    "id": "juohjJ99vcYG",
    "outputId": "35ada0ee-5965-4702-dafe-580d73e07f0a"
   },
   "outputs": [
    {
     "data": {
      "text/plain": [
       "0.20026249885994818"
      ]
     },
     "execution_count": 20,
     "metadata": {},
     "output_type": "execute_result"
    }
   ],
   "source": [
    "silhouette_score(X, labels_em)"
   ]
  },
  {
   "cell_type": "markdown",
   "metadata": {
    "id": "CL8QTDM8fZf_"
   },
   "source": [
    "### By 6 clusters (GAS)"
   ]
  },
  {
   "cell_type": "code",
   "execution_count": 21,
   "metadata": {
    "id": "xow3174wc579"
   },
   "outputs": [],
   "source": [
    "from sklearn.mixture import GaussianMixture\n",
    "# Create a Gaussian Mixture model with 5 components\n",
    "gmm_2 = GaussianMixture(n_components=cluster_count_GAS, random_state=0)\n",
    "\n",
    "# Fit the model to the time series data\n",
    "gmm_2.fit(X)\n",
    "\n",
    "# Get the cluster labels for each time series\n",
    "labels_em_2 = gmm_2.predict(X)\n",
    "\n",
    "# Get the means and covariances of the components\n",
    "means_2 = gmm_2.means_\n",
    "covariances_2 = gmm_2.covariances_"
   ]
  },
  {
   "cell_type": "code",
   "execution_count": 22,
   "metadata": {
    "colab": {
     "base_uri": "https://localhost:8080/"
    },
    "id": "Vljs2nYlfIoO",
    "outputId": "0730411a-6513-494e-cb36-9d01724900a2"
   },
   "outputs": [
    {
     "data": {
      "text/plain": [
       "0.2657038746496726"
      ]
     },
     "execution_count": 22,
     "metadata": {},
     "output_type": "execute_result"
    }
   ],
   "source": [
    "silhouette_score(X, labels_em_2)"
   ]
  },
  {
   "cell_type": "code",
   "execution_count": 30,
   "metadata": {
    "colab": {
     "base_uri": "https://localhost:8080/",
     "height": 350
    },
    "id": "EFxszNtrhzxx",
    "outputId": "39067c63-679e-4544-babb-1f7cebacf5ac"
   },
   "outputs": [
    {
     "data": {
      "image/png": "[encoded data removed]",
      "text/plain": [
       "<Figure size 720x360 with 1 Axes>"
      ]
     },
     "metadata": {
      "needs_background": "light"
     },
     "output_type": "display_data"
    }
   ],
   "source": [
    "import matplotlib.pyplot as plt\n",
    "# Create a line plot of the time series data and the clustering results\n",
    "fig, ax = plt.subplots(figsize=(10, 5))\n",
    "for i in range(np.max(labels_am) + 1):\n",
    "    ax.plot(X[labels_am_2 == i].T, alpha=0.5)\n",
    "\n",
    "# Set the x and y axis labels\n",
    "ax.set_xlabel(\"Time\")\n",
    "ax.set_ylabel(\"Value\")\n",
    "\n",
    "# Set the title of the plot\n",
    "ax.set_title(\"Clustering results\")\n",
    "\n",
    "# Show the plot\n",
    "plt.show()"
   ]
  },
  {
   "cell_type": "markdown",
   "metadata": {
    "id": "109_FJXceexD"
   },
   "source": [
    "## Hierarchical Clustering"
   ]
  },
  {
   "cell_type": "code",
   "execution_count": 31,
   "metadata": {
    "colab": {
     "base_uri": "https://localhost:8080/",
     "height": 301
    },
    "id": "o3GdPq7JdZFa",
    "outputId": "9224721c-4453-4b08-ebaf-9836da0d85b6"
   },
   "outputs": [
    {
     "data": {
      "image/png": "[encoded data removed]",
      "text/plain": [
       "<Figure size 432x288 with 1 Axes>"
      ]
     },
     "metadata": {
      "needs_background": "light"
     },
     "output_type": "display_data"
    }
   ],
   "source": [
    "import scipy.cluster.hierarchy as sch\n",
    "dendrogram = sch.dendrogram(sch.linkage(X, method = 'ward'))\n",
    "plt.title('Dendrogram')\n",
    "plt.xlabel('C')\n",
    "plt.ylabel('Euclidean distances')\n",
    "plt.show()"
   ]
  },
  {
   "cell_type": "markdown",
   "metadata": {
    "id": "ux6YTQLz_Uyb"
   },
   "source": [
    "### By 59 clusters (CONCENTRATION)"
   ]
  },
  {
   "cell_type": "code",
   "execution_count": 32,
   "metadata": {
    "id": "_D4MtUdkdsnS"
   },
   "outputs": [],
   "source": [
    "from sklearn.cluster import AgglomerativeClustering\n",
    "hc = AgglomerativeClustering(n_clusters = cluster_count_CONCENTRATION, affinity = 'euclidean', linkage = 'ward')\n",
    "labels_hc = hc.fit_predict(X)"
   ]
  },
  {
   "cell_type": "code",
   "execution_count": 33,
   "metadata": {
    "colab": {
     "base_uri": "https://localhost:8080/"
    },
    "id": "WwfPGMEfe9mD",
    "outputId": "e72efed8-1753-41bc-9ccd-cdd45f7b375f"
   },
   "outputs": [
    {
     "data": {
      "text/plain": [
       "0.27034538075491393"
      ]
     },
     "execution_count": 33,
     "metadata": {},
     "output_type": "execute_result"
    }
   ],
   "source": [
    "silhouette_score(X, labels_hc)"
   ]
  },
  {
   "cell_type": "markdown",
   "metadata": {
    "id": "CcmqGpVt_YjM"
   },
   "source": [
    "### By 6 clusters (GAS)"
   ]
  },
  {
   "cell_type": "code",
   "execution_count": 34,
   "metadata": {
    "id": "0_9nWF5UiF3p"
   },
   "outputs": [],
   "source": [
    "from sklearn.cluster import AgglomerativeClustering\n",
    "hc_2 = AgglomerativeClustering(n_clusters = cluster_count_GAS, affinity = 'euclidean', linkage = 'ward')\n",
    "labels_hc_2 = hc_2.fit_predict(X)"
   ]
  },
  {
   "cell_type": "code",
   "execution_count": 35,
   "metadata": {
    "colab": {
     "base_uri": "https://localhost:8080/"
    },
    "id": "inBVbMc7iIVZ",
    "outputId": "1bb59ea9-2479-4f08-a816-05bb94bad1f7"
   },
   "outputs": [
    {
     "data": {
      "text/plain": [
       "0.21705464840545205"
      ]
     },
     "execution_count": 35,
     "metadata": {},
     "output_type": "execute_result"
    }
   ],
   "source": [
    "silhouette_score(X, labels_hc_2)"
   ]
  },
  {
   "cell_type": "markdown",
   "metadata": {
    "id": "q5U0dDT2fPFd"
   },
   "source": [
    "## DBSCAN"
   ]
  },
  {
   "cell_type": "code",
   "execution_count": 35,
   "metadata": {
    "colab": {
     "base_uri": "https://localhost:8080/"
    },
    "id": "bvqxHfeFfQ9c",
    "outputId": "95a418e5-0999-4c0f-a374-8e446f090a4d"
   },
   "outputs": [
    {
     "name": "stdout",
     "output_type": "stream",
     "text": [
      "The number of clusters is: 6\n"
     ]
    }
   ],
   "source": [
    "from sklearn.cluster import DBSCAN\n",
    "# eps is epsilon the starting point, and min_samples is the minimum points that must\n",
    "# exist for cluster to be formed\n",
    "dbscan = DBSCAN(eps=7.5, min_samples=(14000/1400)).fit(X)\n",
    "labels_db = dbscan.labels_\n",
    "\n",
    "# Print the data and the number of clusters\n",
    "print(f'The number of clusters is: {len(set(labels_db))}')"
   ]
  },
  {
   "cell_type": "code",
   "execution_count": 36,
   "metadata": {
    "colab": {
     "base_uri": "https://localhost:8080/"
    },
    "id": "GwUHp5yGgNIm",
    "outputId": "5bb402a7-d7a0-4695-877e-ee82d6adeb54"
   },
   "outputs": [
    {
     "data": {
      "text/plain": [
       "0.210886578182532"
      ]
     },
     "execution_count": 36,
     "metadata": {},
     "output_type": "execute_result"
    }
   ],
   "source": [
    "silhouette_score(X, labels_db)"
   ]
  },
  {
   "cell_type": "code",
   "execution_count": 38,
   "metadata": {},
   "outputs": [
    {
     "data": {
      "image/png": "[encoded data removed]",
      "text/plain": [
       "<Figure size 432x288 with 1 Axes>"
      ]
     },
     "metadata": {
      "needs_background": "light"
     },
     "output_type": "display_data"
    }
   ],
   "source": [
    "import numpy as np\n",
    "unique_labels = set(labels_db)\n",
    "colors = [plt.cm.Spectral(each) for each in np.linspace(0, 1, len(unique_labels))]\n",
    "for k, col in zip(unique_labels, colors):\n",
    "    if k == -1:\n",
    "        col = [0, 0, 0, 1] # noise points in black\n",
    "    class_member_mask = (labels_db == k)\n",
    "    xy = X[class_member_mask]\n",
    "    plt.plot(xy[:, 0], xy[:, 1], 'o', markerfacecolor=tuple(col), markeredgecolor='k', markersize=14)\n",
    "    plt.title('Number of clusters: {}'.format(6))\n",
    "\n",
    "plt.show()"
   ]
  },
  {
   "cell_type": "code",
   "execution_count": null,
   "metadata": {
    "id": "vfAruCW7jcYV"
   },
   "outputs": [],
   "source": [
    "import numpy as np\n",
    "unique_labels = set(labels)\n",
    "colors = [plt.cm.Spectral(each) for each in np.linspace(0, 1, len(unique_labels))]\n",
    "for k, col in zip(unique_labels, colors):\n",
    "    if k == -1:\n",
    "        col = [0, 0, 0, 1] # noise points in black\n",
    "    class_member_mask = (labels == k)\n",
    "    xy = X[class_member_mask]\n",
    "    plt.plot(xy[:, 0], xy[:, 1], 'o', markerfacecolor=tuple(col), markeredgecolor='k', markersize=14)\n",
    "    plt.title('Number of clusters: {}'.format(2))\n",
    "\n",
    "plt.show()"
   ]
  },
  {
   "cell_type": "markdown",
   "metadata": {},
   "source": [
    "# Anomaly detection using Isolation Forest"
   ]
  },
  {
   "cell_type": "code",
   "execution_count": 39,
   "metadata": {},
   "outputs": [
    {
     "data": {
      "text/plain": [
       "(12519, 128)"
      ]
     },
     "execution_count": 39,
     "metadata": {},
     "output_type": "execute_result"
    }
   ],
   "source": [
    "isolation_forest = IsolationForest(n_estimators=100, contamination=0.1)\n",
    "isolation_forest.fit(X)\n",
    "inliers_X = X[isolation_forest.predict(X) == 1]\n",
    "inliers_y = y[isolation_forest.predict(X) == 1]\n",
    "inliers_X.shape"
   ]
  },
  {
   "cell_type": "markdown",
   "metadata": {},
   "source": [
    "# Kmeans without Anomalies"
   ]
  },
  {
   "cell_type": "code",
   "execution_count": 40,
   "metadata": {},
   "outputs": [
    {
     "name": "stdout",
     "output_type": "stream",
     "text": [
      "27.604 --> 20.135 --> 19.733 --> 19.505 --> 19.329 --> \n"
     ]
    }
   ],
   "source": [
    "km_2 = TimeSeriesKMeans(n_clusters=cluster_count_GAS, metric=\"euclidean\", max_iter=5, verbose=True, random_state=0)\n",
    "labels_kmeans_2 = km_2.fit_predict(inliers_X)\n",
    "\n",
    "# Plot the data and the clusters\n",
    "plot_count_2 = math.ceil(math.sqrt(cluster_count_GAS))"
   ]
  },
  {
   "cell_type": "code",
   "execution_count": 41,
   "metadata": {},
   "outputs": [
    {
     "data": {
      "text/plain": [
       "0.2750285657494696"
      ]
     },
     "execution_count": 41,
     "metadata": {},
     "output_type": "execute_result"
    }
   ],
   "source": [
    "silhouette_score(inliers_X, labels_kmeans_2)"
   ]
  },
  {
   "cell_type": "markdown",
   "metadata": {},
   "source": [
    "# EM without Anomalies"
   ]
  },
  {
   "cell_type": "code",
   "execution_count": 42,
   "metadata": {},
   "outputs": [],
   "source": [
    "from sklearn.mixture import GaussianMixture\n",
    "# Create a Gaussian Mixture model with 5 components\n",
    "gmm = GaussianMixture(n_components=cluster_count_GAS, random_state=0)\n",
    "\n",
    "# Fit the model to the time series data\n",
    "gmm.fit(inliers_X)\n",
    "\n",
    "# Get the cluster labels for each time series\n",
    "labels_em = gmm.predict(inliers_X)\n",
    "\n",
    "# Get the means and covariances of the components\n",
    "means = gmm.means_\n",
    "covariances = gmm.covariances_"
   ]
  },
  {
   "cell_type": "code",
   "execution_count": 43,
   "metadata": {},
   "outputs": [
    {
     "data": {
      "text/plain": [
       "0.10715680671139143"
      ]
     },
     "execution_count": 43,
     "metadata": {},
     "output_type": "execute_result"
    }
   ],
   "source": [
    "silhouette_score(inliers_X, labels_em)"
   ]
  },
  {
   "cell_type": "markdown",
   "metadata": {},
   "source": [
    "# Hierarchical Clustering (without Anomalies)"
   ]
  },
  {
   "cell_type": "code",
   "execution_count": 44,
   "metadata": {},
   "outputs": [
    {
     "data": {
      "image/png": "[encoded data removed]",
      "text/plain": [
       "<Figure size 432x288 with 1 Axes>"
      ]
     },
     "metadata": {
      "needs_background": "light"
     },
     "output_type": "display_data"
    }
   ],
   "source": [
    "import scipy.cluster.hierarchy as sch\n",
    "dendrogram = sch.dendrogram(sch.linkage(inliers_X, method = 'ward'))\n",
    "plt.title('Dendrogram')\n",
    "plt.xlabel('Obs')\n",
    "plt.ylabel('Euclidean distances')\n",
    "plt.show()"
   ]
  },
  {
   "cell_type": "code",
   "execution_count": 47,
   "metadata": {},
   "outputs": [],
   "source": [
    "from sklearn.cluster import AgglomerativeClustering\n",
    "hc = AgglomerativeClustering(n_clusters = cluster_count_GAS, affinity = 'euclidean', linkage = 'ward')\n",
    "labels_hc = hc.fit_predict(inliers_X)"
   ]
  },
  {
   "cell_type": "code",
   "execution_count": 48,
   "metadata": {},
   "outputs": [
    {
     "data": {
      "text/plain": [
       "0.22841793004836564"
      ]
     },
     "execution_count": 48,
     "metadata": {},
     "output_type": "execute_result"
    }
   ],
   "source": [
    "silhouette_score(inliers_X, labels_hc)"
   ]
  },
  {
   "cell_type": "markdown",
   "metadata": {},
   "source": [
    "# DBSCAN (without Anomalies)"
   ]
  },
  {
   "cell_type": "code",
   "execution_count": 58,
   "metadata": {},
   "outputs": [
    {
     "name": "stdout",
     "output_type": "stream",
     "text": [
      "The number of clusters is: 6\n"
     ]
    }
   ],
   "source": [
    "from sklearn.cluster import DBSCAN\n",
    "# eps is epsilon the starting point, and min_samples is the minimum points that must\n",
    "# exist for cluster to be formed\n",
    "dbscan = DBSCAN(eps=4, min_samples=8).fit(inliers_X)\n",
    "labels = dbscan.labels_\n",
    "\n",
    "# Print the data and the number of clusters\n",
    "print(f'The number of clusters is: {len(set(labels))}')"
   ]
  },
  {
   "cell_type": "code",
   "execution_count": 59,
   "metadata": {},
   "outputs": [
    {
     "data": {
      "text/plain": [
       "0.1682940576020758"
      ]
     },
     "execution_count": 59,
     "metadata": {},
     "output_type": "execute_result"
    }
   ],
   "source": [
    "silhouette_score(inliers_X, labels)"
   ]
  },
  {
   "cell_type": "code",
   "execution_count": 67,
   "metadata": {},
   "outputs": [
    {
     "data": {
      "image/png": "[encoded data removed]",
      "text/plain": [
       "<Figure size 432x288 with 1 Axes>"
      ]
     },
     "metadata": {
      "needs_background": "light"
     },
     "output_type": "display_data"
    }
   ],
   "source": [
    "unique_labels = set(labels)\n",
    "colors = [plt.cm.Spectral(each) for each in np.linspace(0, 1, len(unique_labels))]\n",
    "for k, col in zip(unique_labels, colors):\n",
    "    if k == -1:\n",
    "        col = [0, 0, 0, 1] # noise points in black\n",
    "    class_member_mask = (labels == k)\n",
    "    xy = inliers_X[class_member_mask]\n",
    "    plt.plot(xy[:, 0], xy[:, 1], 'o', markerfacecolor=tuple(col), markeredgecolor='k', markersize=14)\n",
    "    plt.title('Number of clusters: {}'.format(6))\n",
    "\n",
    "plt.show()"
   ]
  },
  {
   "cell_type": "markdown",
   "metadata": {
    "id": "iwmFvUDH3Z8j"
   },
   "source": [
    "# PCA"
   ]
  },
  {
   "cell_type": "code",
   "execution_count": 61,
   "metadata": {
    "id": "jamXEmlO3tD-"
   },
   "outputs": [],
   "source": [
    "X = my_df_scaled.iloc[:, :-3].values\n",
    "y = my_df_scaled.iloc[:, -2].values"
   ]
  },
  {
   "cell_type": "code",
   "execution_count": 62,
   "metadata": {
    "id": "3m1lMFYp3bGv"
   },
   "outputs": [],
   "source": [
    "X = skl.decomposition.PCA(n_components=2).fit_transform(X)"
   ]
  },
  {
   "cell_type": "code",
   "execution_count": 63,
   "metadata": {
    "id": "xJQtKINd34L5"
   },
   "outputs": [],
   "source": [
    "y = skl.preprocessing.LabelEncoder().fit_transform(y)"
   ]
  },
  {
   "cell_type": "code",
   "execution_count": null,
   "metadata": {
    "colab": {
     "base_uri": "https://localhost:8080/",
     "height": 282
    },
    "id": "rmSb7fq336no",
    "outputId": "9045af49-8c28-4921-a308-84b7a35b6e36"
   },
   "outputs": [
    {
     "data": {
      "text/plain": [
       "((13910, 2), (13910,))"
      ]
     },
     "execution_count": 11,
     "metadata": {},
     "output_type": "execute_result"
    },
    {
     "data": {
      "image/png": "[encoded data removed]",
      "text/plain": [
       "<Figure size 432x288 with 1 Axes>"
      ]
     },
     "metadata": {
      "needs_background": "light"
     },
     "output_type": "display_data"
    }
   ],
   "source": [
    "plt.scatter(X[:,0], X[:,1], c=y, cmap='RdBu', alpha=0.5)\n",
    "X.shape, y.shape"
   ]
  },
  {
   "cell_type": "code",
   "execution_count": null,
   "metadata": {
    "colab": {
     "base_uri": "https://localhost:8080/"
    },
    "id": "5zzLhzYY4ida",
    "outputId": "bbf88a19-d261-4731-fce3-fc0c3f337232"
   },
   "outputs": [
    {
     "data": {
      "text/plain": [
       "{0, 1, 2, 3, 4, 5}"
      ]
     },
     "execution_count": 18,
     "metadata": {},
     "output_type": "execute_result"
    }
   ],
   "source": [
    "set(y)"
   ]
  },
  {
   "cell_type": "markdown",
   "metadata": {
    "id": "AH22-aJ_5neB"
   },
   "source": [
    "# KMEANS with PCA\n"
   ]
  },
  {
   "cell_type": "markdown",
   "metadata": {
    "id": "WvHrLYv645xN"
   },
   "source": [
    "### PCA KMEANS with 6 clusters"
   ]
  },
  {
   "cell_type": "code",
   "execution_count": null,
   "metadata": {
    "id": "M4SriEEu4GwO"
   },
   "outputs": [],
   "source": [
    "km_pca = KMeans(n_clusters = cluster_count_GAS, random_state = 0)\n",
    "labels_kmeans_pca = km_pca.fit_predict(X)"
   ]
  },
  {
   "cell_type": "code",
   "execution_count": null,
   "metadata": {
    "colab": {
     "base_uri": "https://localhost:8080/"
    },
    "id": "ZN1RxglC4nFA",
    "outputId": "a5c7b6a3-fa8c-4809-e492-25731b58935b"
   },
   "outputs": [
    {
     "data": {
      "text/plain": [
       "0.37883745548504083"
      ]
     },
     "execution_count": 19,
     "metadata": {},
     "output_type": "execute_result"
    }
   ],
   "source": [
    "silhouette_score(X, labels_kmeans_pca)"
   ]
  },
  {
   "cell_type": "markdown",
   "metadata": {
    "id": "ILmrp0ZY5BJK"
   },
   "source": [
    "### PCA KMEANS with 2 clusters"
   ]
  },
  {
   "cell_type": "code",
   "execution_count": null,
   "metadata": {
    "id": "gN8fBLuA4s-P"
   },
   "outputs": [],
   "source": [
    "km_pca_2 = KMeans(n_clusters = 2, random_state = 0)\n",
    "labels_kmeans_pca_2 = km_pca_2.fit_predict(X)"
   ]
  },
  {
   "cell_type": "code",
   "execution_count": null,
   "metadata": {
    "colab": {
     "base_uri": "https://localhost:8080/"
    },
    "id": "vwMGAMx24zLJ",
    "outputId": "afe890de-2dec-48bd-f50f-2b624312cffa"
   },
   "outputs": [
    {
     "data": {
      "text/plain": [
       "0.5175918044152669"
      ]
     },
     "execution_count": 21,
     "metadata": {},
     "output_type": "execute_result"
    }
   ],
   "source": [
    "silhouette_score(X, labels_kmeans_pca_2)"
   ]
  },
  {
   "cell_type": "code",
   "execution_count": null,
   "metadata": {
    "id": "jhCeSsfd5HTd"
   },
   "outputs": [],
   "source": [
    "# Get the cluster labels and centers\n",
    "labels_lb = km_pca_2.labels_\n",
    "centers_pca2 = km_pca_2.cluster_centers_"
   ]
  },
  {
   "cell_type": "code",
   "execution_count": null,
   "metadata": {
    "colab": {
     "base_uri": "https://localhost:8080/",
     "height": 295
    },
    "id": "ixWbJHTq5RmH",
    "outputId": "790a3c88-b401-46ae-91d2-a6cd48b45ca4"
   },
   "outputs": [
    {
     "data": {
      "image/png": "[encoded data removed]",
      "text/plain": [
       "<Figure size 432x288 with 1 Axes>"
      ]
     },
     "metadata": {
      "needs_background": "light"
     },
     "output_type": "display_data"
    }
   ],
   "source": [
    "plt.scatter(X[labels_kmeans_pca_2 == 0, 0], X[labels_kmeans_pca_2 == 0, 1], s = 100, c = 'red', label = 'Cluster 1')\n",
    "plt.scatter(X[labels_kmeans_pca_2 == 1, 0], X[labels_kmeans_pca_2 == 1, 1], s = 100, c = 'blue', label = 'Cluster 2')\n",
    "\n",
    "plt.scatter(centers_pca2[:, 0], centers_pca2[:, 1], s = 300, c = 'yellow', label = 'Centroids')\n",
    "plt.title('Clusters of customers')\n",
    "plt.xlabel('x axi')\n",
    "plt.ylabel('y axi')\n",
    "plt.legend()\n",
    "plt.show()"
   ]
  },
  {
   "cell_type": "markdown",
   "metadata": {
    "id": "T_AtHuWa5je1"
   },
   "source": [
    "# EM with PCA"
   ]
  },
  {
   "cell_type": "markdown",
   "metadata": {
    "id": "tdBtur2n7L_E"
   },
   "source": [
    "### PCA EM with 6 clusters"
   ]
  },
  {
   "cell_type": "code",
   "execution_count": null,
   "metadata": {
    "id": "QltuLzCO5r5X"
   },
   "outputs": [],
   "source": [
    "from sklearn.mixture import GaussianMixture\n",
    "# Create a Gaussian Mixture model with 5 components\n",
    "gmm_pca = GaussianMixture(n_components=cluster_count_GAS, random_state=0)\n",
    "\n",
    "# Fit the model to the time series data\n",
    "gmm_pca.fit(X)\n",
    "\n",
    "# Get the cluster labels for each time series\n",
    "labels_em_pca = gmm_pca.predict(X)\n",
    "\n",
    "# Get the means and covariances of the components\n",
    "means = gmm_pca.means_\n",
    "covariances = gmm_pca.covariances_"
   ]
  },
  {
   "cell_type": "code",
   "execution_count": null,
   "metadata": {
    "colab": {
     "base_uri": "https://localhost:8080/"
    },
    "id": "fpwdqi8r5uZr",
    "outputId": "79ed7b1d-f709-47a0-9519-e154fbbafa70"
   },
   "outputs": [
    {
     "data": {
      "text/plain": [
       "0.3283427515398727"
      ]
     },
     "execution_count": 26,
     "metadata": {},
     "output_type": "execute_result"
    }
   ],
   "source": [
    "silhouette_score(X, labels_em_pca)"
   ]
  },
  {
   "cell_type": "markdown",
   "metadata": {
    "id": "YrVwSCWx7JeG"
   },
   "source": [
    "### PCA EM with 2 clusters"
   ]
  },
  {
   "cell_type": "code",
   "execution_count": null,
   "metadata": {
    "id": "CrcIPKj06GBC"
   },
   "outputs": [],
   "source": [
    "# Create a Gaussian Mixture model with 5 components\n",
    "gmm_pca_2 = GaussianMixture(n_components=2, random_state=0)\n",
    "\n",
    "# Fit the model to the time series data\n",
    "gmm_pca_2.fit(X)\n",
    "\n",
    "# Get the cluster labels for each time series\n",
    "labels_em_pca_2 = gmm_pca_2.predict(X)\n",
    "\n",
    "# Get the means and covariances of the components\n",
    "means = gmm_pca_2.means_\n",
    "covariances = gmm_pca_2.covariances_"
   ]
  },
  {
   "cell_type": "code",
   "execution_count": null,
   "metadata": {
    "colab": {
     "base_uri": "https://localhost:8080/"
    },
    "id": "qVOAEURZ6QIZ",
    "outputId": "0a7004dd-f38a-4505-fd97-e922164a48f3"
   },
   "outputs": [
    {
     "data": {
      "text/plain": [
       "0.43325110541694456"
      ]
     },
     "execution_count": 29,
     "metadata": {},
     "output_type": "execute_result"
    }
   ],
   "source": [
    "silhouette_score(X, labels_em_pca_2)"
   ]
  },
  {
   "cell_type": "markdown",
   "metadata": {
    "id": "FHbq4FZw7Csu"
   },
   "source": [
    "# EM with alternating maximization (after PCA)"
   ]
  },
  {
   "cell_type": "code",
   "execution_count": null,
   "metadata": {
    "id": "EsxCRx8-6vIS"
   },
   "outputs": [],
   "source": [
    "# Initialize cluster centers randomly\n",
    "centers = np.random.randn(2, X.shape[1])\n",
    "\n",
    "# Run the Expectation-Maximization algorithm with alternating maximization\n",
    "for i in range(10):\n",
    "    # Expectation step\n",
    "    dist = np.linalg.norm(X[:, np.newaxis, :] - centers, axis=2)\n",
    "    membership = np.argmin(dist, axis=1)\n",
    "    \n",
    "    # Maximization step\n",
    "    for j in range(2):\n",
    "        centers[j] = np.mean(X[membership == j], axis=0)"
   ]
  },
  {
   "cell_type": "code",
   "execution_count": null,
   "metadata": {
    "colab": {
     "base_uri": "https://localhost:8080/"
    },
    "id": "0eWntlBc64DP",
    "outputId": "30af2e01-b26d-4716-89b8-3439d3927238"
   },
   "outputs": [
    {
     "data": {
      "text/plain": [
       "0.510946418442895"
      ]
     },
     "execution_count": 32,
     "metadata": {},
     "output_type": "execute_result"
    }
   ],
   "source": [
    "silhouette_score(X, membership)"
   ]
  },
  {
   "cell_type": "markdown",
   "metadata": {
    "id": "iJdaa_bD8F01"
   },
   "source": [
    "# Hierarchical Clustering With PCA\n"
   ]
  },
  {
   "cell_type": "code",
   "execution_count": null,
   "metadata": {
    "colab": {
     "base_uri": "https://localhost:8080/",
     "height": 301
    },
    "id": "jWUJMn4v7bNC",
    "outputId": "38b5799f-a958-46f8-c3b2-9ef4ca92d988"
   },
   "outputs": [
    {
     "data": {
      "image/png": "[encoded data removed]",
      "text/plain": [
       "<Figure size 432x288 with 1 Axes>"
      ]
     },
     "metadata": {
      "needs_background": "light"
     },
     "output_type": "display_data"
    }
   ],
   "source": [
    "import scipy.cluster.hierarchy as sch\n",
    "dendrogram = sch.dendrogram(sch.linkage(X, method = 'ward'))\n",
    "plt.title('Dendrogram')\n",
    "plt.xlabel('C')\n",
    "plt.ylabel('Euclidean distances')\n",
    "plt.show()"
   ]
  },
  {
   "cell_type": "markdown",
   "metadata": {
    "id": "-bq1uTYA8TXb"
   },
   "source": [
    "### PCA Hierarchical Clustering with 6 clusters"
   ]
  },
  {
   "cell_type": "code",
   "execution_count": null,
   "metadata": {
    "id": "JCkf8_YE7luq"
   },
   "outputs": [],
   "source": [
    "from sklearn.cluster import AgglomerativeClustering\n",
    "hc_pca = AgglomerativeClustering(n_clusters = cluster_count_GAS, affinity = 'euclidean', linkage = 'ward')\n",
    "labels_hc_pca = hc_pca.fit_predict(X)"
   ]
  },
  {
   "cell_type": "code",
   "execution_count": null,
   "metadata": {
    "colab": {
     "base_uri": "https://localhost:8080/"
    },
    "id": "u9fFXllG7pMq",
    "outputId": "e16edc98-5da0-4ff9-b64d-2985ca566d99"
   },
   "outputs": [
    {
     "data": {
      "text/plain": [
       "0.3990997401406666"
      ]
     },
     "execution_count": 36,
     "metadata": {},
     "output_type": "execute_result"
    }
   ],
   "source": [
    "silhouette_score(X, labels_hc_pca)"
   ]
  },
  {
   "cell_type": "markdown",
   "metadata": {
    "id": "LF4IQ8WS8WMg"
   },
   "source": [
    "### PCA Hierarchical Clustering with 2 clusters"
   ]
  },
  {
   "cell_type": "code",
   "execution_count": null,
   "metadata": {
    "id": "hMZhhEr675DO"
   },
   "outputs": [],
   "source": [
    "from sklearn.cluster import AgglomerativeClustering\n",
    "hc_pca_2 = AgglomerativeClustering(n_clusters = 2, affinity = 'euclidean', linkage = 'ward')\n",
    "labels_hc_pca_2 = hc_pca_2.fit_predict(X)"
   ]
  },
  {
   "cell_type": "code",
   "execution_count": null,
   "metadata": {
    "colab": {
     "base_uri": "https://localhost:8080/"
    },
    "id": "8C9pUmRH79BF",
    "outputId": "390e6d4f-0fa8-45e3-9563-03626b47f821"
   },
   "outputs": [
    {
     "data": {
      "text/plain": [
       "0.5185865678994265"
      ]
     },
     "execution_count": 38,
     "metadata": {},
     "output_type": "execute_result"
    }
   ],
   "source": [
    "silhouette_score(X, labels_hc_pca_2)"
   ]
  },
  {
   "cell_type": "markdown",
   "metadata": {
    "id": "rsN5auLD-ln5"
   },
   "source": [
    "## DBSCAN with PCA"
   ]
  },
  {
   "cell_type": "code",
   "execution_count": 64,
   "metadata": {
    "colab": {
     "base_uri": "https://localhost:8080/"
    },
    "id": "1pS3Sym_-pK-",
    "outputId": "a3c3cb33-1c26-4b35-f8d6-bbefe5c36478"
   },
   "outputs": [
    {
     "name": "stdout",
     "output_type": "stream",
     "text": [
      "The number of clusters is: 2\n"
     ]
    }
   ],
   "source": [
    "from sklearn.cluster import DBSCAN\n",
    "# eps is epsilon the starting point, and min_samples is the minimum points that must\n",
    "# exist for cluster to be formed\n",
    "dbscan = DBSCAN(eps=3, min_samples=5).fit(X)\n",
    "labels_db = dbscan.labels_\n",
    "\n",
    "# Print the data and the number of clusters\n",
    "print(f'The number of clusters is: {len(set(labels_db))}')"
   ]
  },
  {
   "cell_type": "code",
   "execution_count": 65,
   "metadata": {
    "colab": {
     "base_uri": "https://localhost:8080/"
    },
    "id": "nHiUAJnx-rDl",
    "outputId": "c13d2c77-408c-484b-b58b-1b02614e880e"
   },
   "outputs": [
    {
     "data": {
      "text/plain": [
       "0.7361861794784885"
      ]
     },
     "execution_count": 65,
     "metadata": {},
     "output_type": "execute_result"
    }
   ],
   "source": [
    "silhouette_score(X, labels_db)"
   ]
  },
  {
   "cell_type": "code",
   "execution_count": 66,
   "metadata": {},
   "outputs": [
    {
     "data": {
      "image/png": "[encoded data removed]",
      "text/plain": [
       "<Figure size 432x288 with 1 Axes>"
      ]
     },
     "metadata": {
      "needs_background": "light"
     },
     "output_type": "display_data"
    }
   ],
   "source": [
    "unique_labels = set(labels_db)\n",
    "colors = [plt.cm.Spectral(each) for each in np.linspace(0, 1, len(unique_labels))]\n",
    "for k, col in zip(unique_labels, colors):\n",
    "    if k == -1:\n",
    "        col = [0, 0, 0, 1] # noise points in black\n",
    "    class_member_mask = (labels_db == k)\n",
    "    xy = X[class_member_mask]\n",
    "    plt.plot(xy[:, 0], xy[:, 1], 'o', markerfacecolor=tuple(col), markeredgecolor='k', markersize=14)\n",
    "    plt.title('Number of clusters: {}'.format(2))\n",
    "\n",
    "plt.show()"
   ]
  }
 ],
 "metadata": {
  "colab": {
   "machine_shape": "hm",
   "provenance": []
  },
  "gpuClass": "standard",
  "kernelspec": {
   "display_name": "Python 3 (ipykernel)",
   "language": "python",
   "name": "python3"
  },
  "language_info": {
   "codemirror_mode": {
    "name": "ipython",
    "version": 3
   },
   "file_extension": ".py",
   "mimetype": "text/x-python",
   "name": "python",
   "nbconvert_exporter": "python",
   "pygments_lexer": "ipython3",
   "version": "3.10.9"
  }
 },
 "nbformat": 4,
 "nbformat_minor": 1
}
